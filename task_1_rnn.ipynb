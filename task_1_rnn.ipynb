{
  "nbformat": 4,
  "nbformat_minor": 0,
  "metadata": {
    "colab": {
      "name": "lenta_rnn.ipynb",
      "provenance": [],
      "include_colab_link": true
    },
    "kernelspec": {
      "name": "python3",
      "display_name": "Python 3"
    },
    "language_info": {
      "name": "python"
    },
    "accelerator": "GPU"
  },
  "cells": [
    {
      "cell_type": "markdown",
      "metadata": {
        "id": "view-in-github",
        "colab_type": "text"
      },
      "source": [
        "<a href=\"https://colab.research.google.com/github/shattl/HackPromoAnalytics/blob/main/task_1_rnn.ipynb\" target=\"_parent\"><img src=\"https://colab.research.google.com/assets/colab-badge.svg\" alt=\"Open In Colab\"/></a>"
      ]
    },
    {
      "cell_type": "code",
      "metadata": {
        "id": "SlE5snY4OoeJ"
      },
      "source": [
        "import pandas as pd"
      ],
      "execution_count": null,
      "outputs": []
    },
    {
      "cell_type": "code",
      "metadata": {
        "id": "MYFjMLBtOyHL"
      },
      "source": [
        "train = pd.read_csv('lenta.csv')"
      ],
      "execution_count": null,
      "outputs": []
    },
    {
      "cell_type": "code",
      "metadata": {
        "id": "SJZbH9qDO1Nu"
      },
      "source": [
        "train = train[train.columns[1:]]"
      ],
      "execution_count": null,
      "outputs": []
    },
    {
      "cell_type": "code",
      "metadata": {
        "id": "dt7NhFpdPEkZ"
      },
      "source": [
        "off = pd.read_csv('/content/20210521_offers.csv')"
      ],
      "execution_count": null,
      "outputs": []
    },
    {
      "cell_type": "code",
      "metadata": {
        "colab": {
          "base_uri": "https://localhost:8080/",
          "height": 407
        },
        "id": "OVu-zN40PIYW",
        "outputId": "b138ca58-b5c1-45d5-9ca0-bf259acb848c"
      },
      "source": [
        "off"
      ],
      "execution_count": null,
      "outputs": [
        {
          "output_type": "execute_result",
          "data": {
            "text/html": [
              "<div>\n",
              "<style scoped>\n",
              "    .dataframe tbody tr th:only-of-type {\n",
              "        vertical-align: middle;\n",
              "    }\n",
              "\n",
              "    .dataframe tbody tr th {\n",
              "        vertical-align: top;\n",
              "    }\n",
              "\n",
              "    .dataframe thead th {\n",
              "        text-align: right;\n",
              "    }\n",
              "</style>\n",
              "<table border=\"1\" class=\"dataframe\">\n",
              "  <thead>\n",
              "    <tr style=\"text-align: right;\">\n",
              "      <th></th>\n",
              "      <th>Promo_type</th>\n",
              "      <th>Offer_ID</th>\n",
              "      <th>sku</th>\n",
              "      <th>start_date</th>\n",
              "      <th>end_date</th>\n",
              "      <th>train_test_group</th>\n",
              "    </tr>\n",
              "  </thead>\n",
              "  <tbody>\n",
              "    <tr>\n",
              "      <th>0</th>\n",
              "      <td>Facades</td>\n",
              "      <td>F26</td>\n",
              "      <td>71c770923102af052f64c6036c9dd590</td>\n",
              "      <td>20200213</td>\n",
              "      <td>20200219</td>\n",
              "      <td>train</td>\n",
              "    </tr>\n",
              "    <tr>\n",
              "      <th>1</th>\n",
              "      <td>Facades</td>\n",
              "      <td>F2</td>\n",
              "      <td>e87788b585ead792a4d40f7de18f2f76</td>\n",
              "      <td>20200102</td>\n",
              "      <td>20200108</td>\n",
              "      <td>train</td>\n",
              "    </tr>\n",
              "    <tr>\n",
              "      <th>2</th>\n",
              "      <td>Facades</td>\n",
              "      <td>F9</td>\n",
              "      <td>5ae92b5e465d630285677e80b43fe5f7</td>\n",
              "      <td>20200116</td>\n",
              "      <td>20200122</td>\n",
              "      <td>train</td>\n",
              "    </tr>\n",
              "    <tr>\n",
              "      <th>3</th>\n",
              "      <td>Facades</td>\n",
              "      <td>F45</td>\n",
              "      <td>0790b472112a765339f0e5c3f66816ee</td>\n",
              "      <td>20200319</td>\n",
              "      <td>20200325</td>\n",
              "      <td>train</td>\n",
              "    </tr>\n",
              "    <tr>\n",
              "      <th>4</th>\n",
              "      <td>Facades</td>\n",
              "      <td>F191</td>\n",
              "      <td>e87788b585ead792a4d40f7de18f2f76</td>\n",
              "      <td>20201112</td>\n",
              "      <td>20201118</td>\n",
              "      <td>test</td>\n",
              "    </tr>\n",
              "    <tr>\n",
              "      <th>...</th>\n",
              "      <td>...</td>\n",
              "      <td>...</td>\n",
              "      <td>...</td>\n",
              "      <td>...</td>\n",
              "      <td>...</td>\n",
              "      <td>...</td>\n",
              "    </tr>\n",
              "    <tr>\n",
              "      <th>9771</th>\n",
              "      <td>Biweekly</td>\n",
              "      <td>683</td>\n",
              "      <td>0f368be7897dd1531e43dc37115eeaf0</td>\n",
              "      <td>20191114</td>\n",
              "      <td>20191127</td>\n",
              "      <td>train</td>\n",
              "    </tr>\n",
              "    <tr>\n",
              "      <th>9772</th>\n",
              "      <td>Biweekly</td>\n",
              "      <td>691</td>\n",
              "      <td>47c28bf957fe120f2d016e46911e5bdb</td>\n",
              "      <td>20191114</td>\n",
              "      <td>20191127</td>\n",
              "      <td>train</td>\n",
              "    </tr>\n",
              "    <tr>\n",
              "      <th>9773</th>\n",
              "      <td>Biweekly</td>\n",
              "      <td>683</td>\n",
              "      <td>00432d021eca6059fee2ed69a732c2b2</td>\n",
              "      <td>20191114</td>\n",
              "      <td>20191127</td>\n",
              "      <td>train</td>\n",
              "    </tr>\n",
              "    <tr>\n",
              "      <th>9774</th>\n",
              "      <td>Biweekly</td>\n",
              "      <td>690</td>\n",
              "      <td>40d78b3648a4ea15f300070a0ffd9752</td>\n",
              "      <td>20191114</td>\n",
              "      <td>20191127</td>\n",
              "      <td>train</td>\n",
              "    </tr>\n",
              "    <tr>\n",
              "      <th>9775</th>\n",
              "      <td>Biweekly</td>\n",
              "      <td>687</td>\n",
              "      <td>0d73ba0d16f74777b696657bf69a9ef0</td>\n",
              "      <td>20191114</td>\n",
              "      <td>20191127</td>\n",
              "      <td>train</td>\n",
              "    </tr>\n",
              "  </tbody>\n",
              "</table>\n",
              "<p>9776 rows × 6 columns</p>\n",
              "</div>"
            ],
            "text/plain": [
              "     Promo_type Offer_ID  ...  end_date  train_test_group\n",
              "0       Facades      F26  ...  20200219             train\n",
              "1       Facades       F2  ...  20200108             train\n",
              "2       Facades       F9  ...  20200122             train\n",
              "3       Facades      F45  ...  20200325             train\n",
              "4       Facades     F191  ...  20201118              test\n",
              "...         ...      ...  ...       ...               ...\n",
              "9771   Biweekly      683  ...  20191127             train\n",
              "9772   Biweekly      691  ...  20191127             train\n",
              "9773   Biweekly      683  ...  20191127             train\n",
              "9774   Biweekly      690  ...  20191127             train\n",
              "9775   Biweekly      687  ...  20191127             train\n",
              "\n",
              "[9776 rows x 6 columns]"
            ]
          },
          "metadata": {
            "tags": []
          },
          "execution_count": 6
        }
      ]
    },
    {
      "cell_type": "code",
      "metadata": {
        "id": "7bu2CUSGPI8d"
      },
      "source": [
        ""
      ],
      "execution_count": null,
      "outputs": []
    },
    {
      "cell_type": "code",
      "metadata": {
        "id": "qv0dso-P3DO1"
      },
      "source": [
        "off.start_date = pd.to_datetime(off.start_date.map(lambda x: str(x)[:4]+ '-' + str(x)[4:6]+'-' +str(x)[6:]))\n",
        "off.end_date = pd.to_datetime(off.end_date.map(lambda x: str(x)[:4]+ '-' + str(x)[4:6]+'-' +str(x)[6:]))"
      ],
      "execution_count": null,
      "outputs": []
    },
    {
      "cell_type": "code",
      "metadata": {
        "id": "HdkL-HXs3DPE"
      },
      "source": [
        "off_train, off_test = off[off.train_test_group == 'train'].drop(['train_test_group'], axis=1), off[off.train_test_group == 'test'].drop(['train_test_group'], axis=1)"
      ],
      "execution_count": null,
      "outputs": []
    },
    {
      "cell_type": "code",
      "metadata": {
        "id": "W6jt7ACJPjkB"
      },
      "source": [
        "train = train.merge(off_train[['Offer_ID', 'start_date', 'end_date']].drop_duplicates(), on=['Offer_ID'])"
      ],
      "execution_count": null,
      "outputs": []
    },
    {
      "cell_type": "code",
      "metadata": {
        "colab": {
          "base_uri": "https://localhost:8080/",
          "height": 617
        },
        "id": "mkhQfwz2Pq7T",
        "outputId": "ba6ab445-d579-4cd1-fe04-4b54216ad100"
      },
      "source": [
        "off_train[off_train['Offer_ID'] == 'F26']"
      ],
      "execution_count": null,
      "outputs": [
        {
          "output_type": "execute_result",
          "data": {
            "text/html": [
              "<div>\n",
              "<style scoped>\n",
              "    .dataframe tbody tr th:only-of-type {\n",
              "        vertical-align: middle;\n",
              "    }\n",
              "\n",
              "    .dataframe tbody tr th {\n",
              "        vertical-align: top;\n",
              "    }\n",
              "\n",
              "    .dataframe thead th {\n",
              "        text-align: right;\n",
              "    }\n",
              "</style>\n",
              "<table border=\"1\" class=\"dataframe\">\n",
              "  <thead>\n",
              "    <tr style=\"text-align: right;\">\n",
              "      <th></th>\n",
              "      <th>Promo_type</th>\n",
              "      <th>Offer_ID</th>\n",
              "      <th>sku</th>\n",
              "      <th>start_date</th>\n",
              "      <th>end_date</th>\n",
              "    </tr>\n",
              "  </thead>\n",
              "  <tbody>\n",
              "    <tr>\n",
              "      <th>0</th>\n",
              "      <td>Facades</td>\n",
              "      <td>F26</td>\n",
              "      <td>71c770923102af052f64c6036c9dd590</td>\n",
              "      <td>2020-02-13</td>\n",
              "      <td>2020-02-19</td>\n",
              "    </tr>\n",
              "    <tr>\n",
              "      <th>112</th>\n",
              "      <td>Facades</td>\n",
              "      <td>F26</td>\n",
              "      <td>b178ad83d2ed46e4ca3b7d6bf3e50baa</td>\n",
              "      <td>2020-02-13</td>\n",
              "      <td>2020-02-19</td>\n",
              "    </tr>\n",
              "    <tr>\n",
              "      <th>156</th>\n",
              "      <td>Facades</td>\n",
              "      <td>F26</td>\n",
              "      <td>bc169501599f610c529db4962942d80d</td>\n",
              "      <td>2020-02-13</td>\n",
              "      <td>2020-02-19</td>\n",
              "    </tr>\n",
              "    <tr>\n",
              "      <th>163</th>\n",
              "      <td>Facades</td>\n",
              "      <td>F26</td>\n",
              "      <td>bc5f3166f87117e513a68ba6bad1d2da</td>\n",
              "      <td>2020-02-13</td>\n",
              "      <td>2020-02-19</td>\n",
              "    </tr>\n",
              "    <tr>\n",
              "      <th>204</th>\n",
              "      <td>Facades</td>\n",
              "      <td>F26</td>\n",
              "      <td>aa4dfbef8de268ea041b073c0b06c460</td>\n",
              "      <td>2020-02-13</td>\n",
              "      <td>2020-02-19</td>\n",
              "    </tr>\n",
              "    <tr>\n",
              "      <th>228</th>\n",
              "      <td>Facades</td>\n",
              "      <td>F26</td>\n",
              "      <td>3dccf48e3bb5c393c5c8c7d479b8395b</td>\n",
              "      <td>2020-02-13</td>\n",
              "      <td>2020-02-19</td>\n",
              "    </tr>\n",
              "    <tr>\n",
              "      <th>247</th>\n",
              "      <td>Facades</td>\n",
              "      <td>F26</td>\n",
              "      <td>e015fab8b16757eacf67128138d35569</td>\n",
              "      <td>2020-02-13</td>\n",
              "      <td>2020-02-19</td>\n",
              "    </tr>\n",
              "    <tr>\n",
              "      <th>254</th>\n",
              "      <td>Facades</td>\n",
              "      <td>F26</td>\n",
              "      <td>ddeb01bce36693b6f1d3bfec12c8b1e5</td>\n",
              "      <td>2020-02-13</td>\n",
              "      <td>2020-02-19</td>\n",
              "    </tr>\n",
              "    <tr>\n",
              "      <th>258</th>\n",
              "      <td>Facades</td>\n",
              "      <td>F26</td>\n",
              "      <td>9d34169d44a6dbbd3f00f6a734805a5f</td>\n",
              "      <td>2020-02-13</td>\n",
              "      <td>2020-02-19</td>\n",
              "    </tr>\n",
              "    <tr>\n",
              "      <th>266</th>\n",
              "      <td>Facades</td>\n",
              "      <td>F26</td>\n",
              "      <td>652832505970c306c01774f74b0a92de</td>\n",
              "      <td>2020-02-13</td>\n",
              "      <td>2020-02-19</td>\n",
              "    </tr>\n",
              "    <tr>\n",
              "      <th>267</th>\n",
              "      <td>Facades</td>\n",
              "      <td>F26</td>\n",
              "      <td>cf7b6210471e7ceb441878b7807679ee</td>\n",
              "      <td>2020-02-13</td>\n",
              "      <td>2020-02-19</td>\n",
              "    </tr>\n",
              "    <tr>\n",
              "      <th>315</th>\n",
              "      <td>Facades</td>\n",
              "      <td>F26</td>\n",
              "      <td>6907aa7b733ab2874e3b57a0c1ed5007</td>\n",
              "      <td>2020-02-13</td>\n",
              "      <td>2020-02-19</td>\n",
              "    </tr>\n",
              "    <tr>\n",
              "      <th>413</th>\n",
              "      <td>Facades</td>\n",
              "      <td>F26</td>\n",
              "      <td>3d4a0f26b31151b6b6a9d2e47aab896d</td>\n",
              "      <td>2020-02-13</td>\n",
              "      <td>2020-02-19</td>\n",
              "    </tr>\n",
              "    <tr>\n",
              "      <th>487</th>\n",
              "      <td>Facades</td>\n",
              "      <td>F26</td>\n",
              "      <td>17305c71018699ab2184d3dc41c1ee3e</td>\n",
              "      <td>2020-02-13</td>\n",
              "      <td>2020-02-19</td>\n",
              "    </tr>\n",
              "    <tr>\n",
              "      <th>558</th>\n",
              "      <td>Facades</td>\n",
              "      <td>F26</td>\n",
              "      <td>c0421baadeade309fdbd1e00fc8cf86c</td>\n",
              "      <td>2020-02-13</td>\n",
              "      <td>2020-02-19</td>\n",
              "    </tr>\n",
              "    <tr>\n",
              "      <th>711</th>\n",
              "      <td>Facades</td>\n",
              "      <td>F26</td>\n",
              "      <td>4e345989f6052be4235fb89293c682d2</td>\n",
              "      <td>2020-02-13</td>\n",
              "      <td>2020-02-19</td>\n",
              "    </tr>\n",
              "    <tr>\n",
              "      <th>789</th>\n",
              "      <td>Facades</td>\n",
              "      <td>F26</td>\n",
              "      <td>268a85ca34f0675e9605160c2f1a33fc</td>\n",
              "      <td>2020-02-13</td>\n",
              "      <td>2020-02-19</td>\n",
              "    </tr>\n",
              "    <tr>\n",
              "      <th>859</th>\n",
              "      <td>Facades</td>\n",
              "      <td>F26</td>\n",
              "      <td>f6b72300227d7ab53699f5f39905dba5</td>\n",
              "      <td>2020-02-13</td>\n",
              "      <td>2020-02-19</td>\n",
              "    </tr>\n",
              "    <tr>\n",
              "      <th>939</th>\n",
              "      <td>Facades</td>\n",
              "      <td>F26</td>\n",
              "      <td>ceb7a3e97b8f1f038ad475fde4efd28a</td>\n",
              "      <td>2020-02-13</td>\n",
              "      <td>2020-02-19</td>\n",
              "    </tr>\n",
              "  </tbody>\n",
              "</table>\n",
              "</div>"
            ],
            "text/plain": [
              "    Promo_type Offer_ID                               sku start_date   end_date\n",
              "0      Facades      F26  71c770923102af052f64c6036c9dd590 2020-02-13 2020-02-19\n",
              "112    Facades      F26  b178ad83d2ed46e4ca3b7d6bf3e50baa 2020-02-13 2020-02-19\n",
              "156    Facades      F26  bc169501599f610c529db4962942d80d 2020-02-13 2020-02-19\n",
              "163    Facades      F26  bc5f3166f87117e513a68ba6bad1d2da 2020-02-13 2020-02-19\n",
              "204    Facades      F26  aa4dfbef8de268ea041b073c0b06c460 2020-02-13 2020-02-19\n",
              "228    Facades      F26  3dccf48e3bb5c393c5c8c7d479b8395b 2020-02-13 2020-02-19\n",
              "247    Facades      F26  e015fab8b16757eacf67128138d35569 2020-02-13 2020-02-19\n",
              "254    Facades      F26  ddeb01bce36693b6f1d3bfec12c8b1e5 2020-02-13 2020-02-19\n",
              "258    Facades      F26  9d34169d44a6dbbd3f00f6a734805a5f 2020-02-13 2020-02-19\n",
              "266    Facades      F26  652832505970c306c01774f74b0a92de 2020-02-13 2020-02-19\n",
              "267    Facades      F26  cf7b6210471e7ceb441878b7807679ee 2020-02-13 2020-02-19\n",
              "315    Facades      F26  6907aa7b733ab2874e3b57a0c1ed5007 2020-02-13 2020-02-19\n",
              "413    Facades      F26  3d4a0f26b31151b6b6a9d2e47aab896d 2020-02-13 2020-02-19\n",
              "487    Facades      F26  17305c71018699ab2184d3dc41c1ee3e 2020-02-13 2020-02-19\n",
              "558    Facades      F26  c0421baadeade309fdbd1e00fc8cf86c 2020-02-13 2020-02-19\n",
              "711    Facades      F26  4e345989f6052be4235fb89293c682d2 2020-02-13 2020-02-19\n",
              "789    Facades      F26  268a85ca34f0675e9605160c2f1a33fc 2020-02-13 2020-02-19\n",
              "859    Facades      F26  f6b72300227d7ab53699f5f39905dba5 2020-02-13 2020-02-19\n",
              "939    Facades      F26  ceb7a3e97b8f1f038ad475fde4efd28a 2020-02-13 2020-02-19"
            ]
          },
          "metadata": {
            "tags": []
          },
          "execution_count": 16
        }
      ]
    },
    {
      "cell_type": "code",
      "metadata": {
        "colab": {
          "base_uri": "https://localhost:8080/",
          "height": 407
        },
        "id": "LJtpfRG1QJch",
        "outputId": "d6a227f0-efe3-4bd8-b9e3-b4043ec9967d"
      },
      "source": [
        "off_test"
      ],
      "execution_count": null,
      "outputs": [
        {
          "output_type": "execute_result",
          "data": {
            "text/html": [
              "<div>\n",
              "<style scoped>\n",
              "    .dataframe tbody tr th:only-of-type {\n",
              "        vertical-align: middle;\n",
              "    }\n",
              "\n",
              "    .dataframe tbody tr th {\n",
              "        vertical-align: top;\n",
              "    }\n",
              "\n",
              "    .dataframe thead th {\n",
              "        text-align: right;\n",
              "    }\n",
              "</style>\n",
              "<table border=\"1\" class=\"dataframe\">\n",
              "  <thead>\n",
              "    <tr style=\"text-align: right;\">\n",
              "      <th></th>\n",
              "      <th>Promo_type</th>\n",
              "      <th>Offer_ID</th>\n",
              "      <th>sku</th>\n",
              "      <th>start_date</th>\n",
              "      <th>end_date</th>\n",
              "    </tr>\n",
              "  </thead>\n",
              "  <tbody>\n",
              "    <tr>\n",
              "      <th>4</th>\n",
              "      <td>Facades</td>\n",
              "      <td>F191</td>\n",
              "      <td>e87788b585ead792a4d40f7de18f2f76</td>\n",
              "      <td>2020-11-12</td>\n",
              "      <td>2020-11-18</td>\n",
              "    </tr>\n",
              "    <tr>\n",
              "      <th>6</th>\n",
              "      <td>Billboards</td>\n",
              "      <td>B86</td>\n",
              "      <td>cdab3403355b7fda81a1329b2f05cdec</td>\n",
              "      <td>2020-10-29</td>\n",
              "      <td>2020-11-11</td>\n",
              "    </tr>\n",
              "    <tr>\n",
              "      <th>18</th>\n",
              "      <td>Facades</td>\n",
              "      <td>F172</td>\n",
              "      <td>723dad25536c2cf3fb4fd3f577ee2b7c</td>\n",
              "      <td>2020-10-15</td>\n",
              "      <td>2020-10-21</td>\n",
              "    </tr>\n",
              "    <tr>\n",
              "      <th>23</th>\n",
              "      <td>Billboards</td>\n",
              "      <td>B96</td>\n",
              "      <td>9817112604594b376adf135efe787bbc</td>\n",
              "      <td>2020-12-03</td>\n",
              "      <td>2020-12-09</td>\n",
              "    </tr>\n",
              "    <tr>\n",
              "      <th>26</th>\n",
              "      <td>Facades</td>\n",
              "      <td>F173</td>\n",
              "      <td>b8169608d99f3a31891379d394735732</td>\n",
              "      <td>2020-10-14</td>\n",
              "      <td>2020-10-21</td>\n",
              "    </tr>\n",
              "    <tr>\n",
              "      <th>...</th>\n",
              "      <td>...</td>\n",
              "      <td>...</td>\n",
              "      <td>...</td>\n",
              "      <td>...</td>\n",
              "      <td>...</td>\n",
              "    </tr>\n",
              "    <tr>\n",
              "      <th>7861</th>\n",
              "      <td>Seasonal</td>\n",
              "      <td>99</td>\n",
              "      <td>fc2fe174d3547a2d077bb94742977bdb</td>\n",
              "      <td>2020-10-06</td>\n",
              "      <td>2020-10-19</td>\n",
              "    </tr>\n",
              "    <tr>\n",
              "      <th>8003</th>\n",
              "      <td>Billboards</td>\n",
              "      <td>B140</td>\n",
              "      <td>7a8675a8f6988ebcbefd062fabaccc85</td>\n",
              "      <td>2020-12-24</td>\n",
              "      <td>2020-12-30</td>\n",
              "    </tr>\n",
              "    <tr>\n",
              "      <th>8004</th>\n",
              "      <td>Billboards</td>\n",
              "      <td>B140</td>\n",
              "      <td>787762f7d829ce318599bf015baba175</td>\n",
              "      <td>2020-12-24</td>\n",
              "      <td>2020-12-30</td>\n",
              "    </tr>\n",
              "    <tr>\n",
              "      <th>8008</th>\n",
              "      <td>Billboards</td>\n",
              "      <td>B140</td>\n",
              "      <td>c8ac520562ba934dd67cbf0f060c4252</td>\n",
              "      <td>2020-12-24</td>\n",
              "      <td>2020-12-30</td>\n",
              "    </tr>\n",
              "    <tr>\n",
              "      <th>8010</th>\n",
              "      <td>Billboards</td>\n",
              "      <td>B140</td>\n",
              "      <td>5abc0869d756fa1c6831651776138baa</td>\n",
              "      <td>2020-12-24</td>\n",
              "      <td>2020-12-30</td>\n",
              "    </tr>\n",
              "  </tbody>\n",
              "</table>\n",
              "<p>2060 rows × 5 columns</p>\n",
              "</div>"
            ],
            "text/plain": [
              "      Promo_type Offer_ID  ... start_date   end_date\n",
              "4        Facades     F191  ... 2020-11-12 2020-11-18\n",
              "6     Billboards      B86  ... 2020-10-29 2020-11-11\n",
              "18       Facades     F172  ... 2020-10-15 2020-10-21\n",
              "23    Billboards      B96  ... 2020-12-03 2020-12-09\n",
              "26       Facades     F173  ... 2020-10-14 2020-10-21\n",
              "...          ...      ...  ...        ...        ...\n",
              "7861    Seasonal       99  ... 2020-10-06 2020-10-19\n",
              "8003  Billboards     B140  ... 2020-12-24 2020-12-30\n",
              "8004  Billboards     B140  ... 2020-12-24 2020-12-30\n",
              "8008  Billboards     B140  ... 2020-12-24 2020-12-30\n",
              "8010  Billboards     B140  ... 2020-12-24 2020-12-30\n",
              "\n",
              "[2060 rows x 5 columns]"
            ]
          },
          "metadata": {
            "tags": []
          },
          "execution_count": 19
        }
      ]
    },
    {
      "cell_type": "code",
      "metadata": {
        "id": "F8Hv67GGRcDM"
      },
      "source": [
        "test = off_test"
      ],
      "execution_count": null,
      "outputs": []
    },
    {
      "cell_type": "code",
      "metadata": {
        "id": "8gDV1KbbQtLO"
      },
      "source": [
        "hie = pd.read_csv('/content/20210518_hierarchy.csv')"
      ],
      "execution_count": null,
      "outputs": []
    },
    {
      "cell_type": "code",
      "metadata": {
        "id": "6Ot-dwlvYs1h"
      },
      "source": [
        "new_hie = hie.drop(['hierarchy_level1','hierarchy_level3', 'hierarchy_level4'], axis=1).drop_duplicates()"
      ],
      "execution_count": null,
      "outputs": []
    },
    {
      "cell_type": "code",
      "metadata": {
        "id": "ccFiJDH0arZ2"
      },
      "source": [
        "d_categories = {}\n",
        "for sku, category in zip(new_hie['sku'], new_hie['hierarchy_level2']):\n",
        "  d_categories[sku] = category"
      ],
      "execution_count": null,
      "outputs": []
    },
    {
      "cell_type": "code",
      "metadata": {
        "id": "MWj25cC03DPH"
      },
      "source": [
        "test['category'] = test.sku.map(lambda x: d_categories[x])"
      ],
      "execution_count": null,
      "outputs": []
    },
    {
      "cell_type": "code",
      "metadata": {
        "id": "hW2ao3wl3DPH"
      },
      "source": [
        "test = test.drop(['sku'], axis=1)"
      ],
      "execution_count": null,
      "outputs": []
    },
    {
      "cell_type": "code",
      "metadata": {
        "id": "bMkFVoFY3DPI"
      },
      "source": [
        "days = []\n",
        "for start, end in zip(test['start_date'], test['end_date']):\n",
        "  days.append((end - start).days + 1)"
      ],
      "execution_count": null,
      "outputs": []
    },
    {
      "cell_type": "code",
      "metadata": {
        "id": "0JKvHIbZ3DPI"
      },
      "source": [
        "test['days'] = days"
      ],
      "execution_count": null,
      "outputs": []
    },
    {
      "cell_type": "code",
      "metadata": {
        "id": "YqXUmx9G3d0D"
      },
      "source": [
        "test_hot = pd.get_dummies(test.drop(['Offer_ID'], axis=1))"
      ],
      "execution_count": null,
      "outputs": []
    },
    {
      "cell_type": "code",
      "metadata": {
        "id": "WioYcoj13d0D"
      },
      "source": [
        "test_hot['Offer_ID'] = test['Offer_ID']"
      ],
      "execution_count": null,
      "outputs": []
    },
    {
      "cell_type": "code",
      "metadata": {
        "id": "_cd5RPGN3d0E"
      },
      "source": [
        "main_columns = ['start_date', 'end_date', 'Promo_type_Billboards', 'Promo_type_Biweekly', 'Promo_type_Facades', 'Promo_type_Seasonal', 'Offer_ID', 'days']"
      ],
      "execution_count": null,
      "outputs": []
    },
    {
      "cell_type": "code",
      "metadata": {
        "id": "eJP48Rra3d0E"
      },
      "source": [
        "test_group = test_hot.groupby(['Offer_ID']).agg({col: ['sum'] for col in set(test_hot.columns) - set(main_columns)})"
      ],
      "execution_count": null,
      "outputs": []
    },
    {
      "cell_type": "code",
      "metadata": {
        "id": "qYFlqYCf3d0E"
      },
      "source": [
        "offer_count = test.groupby(['Offer_ID']).Offer_ID.count()"
      ],
      "execution_count": null,
      "outputs": []
    },
    {
      "cell_type": "code",
      "metadata": {
        "id": "upFUuRTa3d0E"
      },
      "source": [
        "sub_d = {}\n",
        "sub_d['Offer_ID'] = list(test_group.index)\n",
        "for col in set(test_hot.columns) - set(main_columns):\n",
        "  sub_d[col] = test_group[col]['sum']"
      ],
      "execution_count": null,
      "outputs": []
    },
    {
      "cell_type": "code",
      "metadata": {
        "id": "8fipjatY3d0E"
      },
      "source": [
        "sub_test = pd.DataFrame(sub_d)"
      ],
      "execution_count": null,
      "outputs": []
    },
    {
      "cell_type": "code",
      "metadata": {
        "id": "DqyGTszF3d0F"
      },
      "source": [
        "sub_test.index = range(149)"
      ],
      "execution_count": null,
      "outputs": []
    },
    {
      "cell_type": "code",
      "metadata": {
        "id": "6TxvWB2d3d0F"
      },
      "source": [
        "ready_test = test_hot[main_columns].drop_duplicates().merge(sub_test, on=['Offer_ID'])"
      ],
      "execution_count": null,
      "outputs": []
    },
    {
      "cell_type": "code",
      "metadata": {
        "id": "EO0RuHp03d0F"
      },
      "source": [
        "ready_test = ready_test.merge(pd.DataFrame({'count': list(offer_count), 'Offer_ID': list(offer_count.index)}, index=range(149)))"
      ],
      "execution_count": null,
      "outputs": []
    },
    {
      "cell_type": "code",
      "metadata": {
        "colab": {
          "base_uri": "https://localhost:8080/",
          "height": 593
        },
        "id": "ElIEvov9Rjk8",
        "outputId": "eec1ac34-81b3-43d8-e115-278f3d8a9419"
      },
      "source": [
        "ready_test"
      ],
      "execution_count": null,
      "outputs": [
        {
          "output_type": "execute_result",
          "data": {
            "text/html": [
              "<div>\n",
              "<style scoped>\n",
              "    .dataframe tbody tr th:only-of-type {\n",
              "        vertical-align: middle;\n",
              "    }\n",
              "\n",
              "    .dataframe tbody tr th {\n",
              "        vertical-align: top;\n",
              "    }\n",
              "\n",
              "    .dataframe thead th {\n",
              "        text-align: right;\n",
              "    }\n",
              "</style>\n",
              "<table border=\"1\" class=\"dataframe\">\n",
              "  <thead>\n",
              "    <tr style=\"text-align: right;\">\n",
              "      <th></th>\n",
              "      <th>start_date</th>\n",
              "      <th>end_date</th>\n",
              "      <th>Promo_type_Billboards</th>\n",
              "      <th>Promo_type_Biweekly</th>\n",
              "      <th>Promo_type_Facades</th>\n",
              "      <th>Promo_type_Seasonal</th>\n",
              "      <th>Offer_ID</th>\n",
              "      <th>days</th>\n",
              "      <th>category_9bf31c7ff062936a96d3c8bd1f8f2ff3</th>\n",
              "      <th>category_a5bfc9e07964f8dddeb95fc584cd965d</th>\n",
              "      <th>category_1ff1de774005f8da13f42943881c655f</th>\n",
              "      <th>category_b6d767d2f8ed5d21a44b0e5886680cb9</th>\n",
              "      <th>category_44f683a84163b3523afe57c2e008bc8c</th>\n",
              "      <th>category_fbd7939d674997cdb4692d34de8633c4</th>\n",
              "      <th>category_f457c545a9ded88f18ecee47145a72c0</th>\n",
              "      <th>category_6512bd43d9caa6e02c990b0a82652dca</th>\n",
              "      <th>category_34173cb38f07f89ddbebc2ac9128303f</th>\n",
              "      <th>category_a5771bce93e200c36f7cd9dfd0e5deaa</th>\n",
              "      <th>category_33e75ff09dd601bbe69f351039152189</th>\n",
              "      <th>category_6f4922f45568161a8cdf4ad2299f6d23</th>\n",
              "      <th>category_37693cfc748049e45d87b8c7d8b9aacd</th>\n",
              "      <th>category_d82c8d1619ad8176d665453cfb2e55f0</th>\n",
              "      <th>category_6c8349cc7260ae62e3b1396831a8398f</th>\n",
              "      <th>category_6ea9ab1baa0efb9e19094440c317e21b</th>\n",
              "      <th>category_a1d0c6e83f027327d8461063f4ac58a6</th>\n",
              "      <th>category_c16a5320fa475530d9583c34fd356ef5</th>\n",
              "      <th>category_c51ce410c124a10e0db5e4b97fc2af39</th>\n",
              "      <th>category_d645920e395fedad7bbbed0eca3fe2e0</th>\n",
              "      <th>category_fc490ca45c00b1249bbe3554a4fdf6fb</th>\n",
              "      <th>category_e369853df766fa44e1ed0ff613f563bd</th>\n",
              "      <th>category_1c383cd30b7c298ab50293adfecb7b18</th>\n",
              "      <th>category_3295c76acbf4caaed33c36b1b5fc2cb1</th>\n",
              "      <th>category_f7177163c833dff4b38fc8d2872f1ec6</th>\n",
              "      <th>category_8e296a067a37563370ded05f5a3bf3ec</th>\n",
              "      <th>category_67c6a1e7ce56d3d6fa748ab6d9af3fd7</th>\n",
              "      <th>category_182be0c5cdcd5072bb1864cdee4d3d6e</th>\n",
              "      <th>category_d67d8ab4f4c10bf22aa353e27879133c</th>\n",
              "      <th>category_19ca14e7ea6328a42e0eb13d585e4c22</th>\n",
              "      <th>category_c20ad4d76fe97759aa27a0c99bff6710</th>\n",
              "      <th>category_6364d3f0f495b6ab9dcf8d3b5c6e0b01</th>\n",
              "      <th>category_17e62166fc8586dfa4d1bc0e1742c08b</th>\n",
              "      <th>count</th>\n",
              "    </tr>\n",
              "  </thead>\n",
              "  <tbody>\n",
              "    <tr>\n",
              "      <th>0</th>\n",
              "      <td>2020-11-12</td>\n",
              "      <td>2020-11-18</td>\n",
              "      <td>0</td>\n",
              "      <td>0</td>\n",
              "      <td>1</td>\n",
              "      <td>0</td>\n",
              "      <td>F191</td>\n",
              "      <td>7</td>\n",
              "      <td>0</td>\n",
              "      <td>0</td>\n",
              "      <td>0</td>\n",
              "      <td>0</td>\n",
              "      <td>0</td>\n",
              "      <td>0</td>\n",
              "      <td>0</td>\n",
              "      <td>0</td>\n",
              "      <td>0</td>\n",
              "      <td>0</td>\n",
              "      <td>0</td>\n",
              "      <td>0</td>\n",
              "      <td>0</td>\n",
              "      <td>0</td>\n",
              "      <td>0</td>\n",
              "      <td>0</td>\n",
              "      <td>0</td>\n",
              "      <td>0</td>\n",
              "      <td>0</td>\n",
              "      <td>0</td>\n",
              "      <td>0</td>\n",
              "      <td>0</td>\n",
              "      <td>0</td>\n",
              "      <td>0</td>\n",
              "      <td>0</td>\n",
              "      <td>0</td>\n",
              "      <td>0</td>\n",
              "      <td>0</td>\n",
              "      <td>22</td>\n",
              "      <td>0</td>\n",
              "      <td>0</td>\n",
              "      <td>0</td>\n",
              "      <td>0</td>\n",
              "      <td>22</td>\n",
              "    </tr>\n",
              "    <tr>\n",
              "      <th>1</th>\n",
              "      <td>2020-10-29</td>\n",
              "      <td>2020-11-11</td>\n",
              "      <td>1</td>\n",
              "      <td>0</td>\n",
              "      <td>0</td>\n",
              "      <td>0</td>\n",
              "      <td>B86</td>\n",
              "      <td>14</td>\n",
              "      <td>0</td>\n",
              "      <td>0</td>\n",
              "      <td>0</td>\n",
              "      <td>0</td>\n",
              "      <td>0</td>\n",
              "      <td>0</td>\n",
              "      <td>0</td>\n",
              "      <td>0</td>\n",
              "      <td>0</td>\n",
              "      <td>0</td>\n",
              "      <td>0</td>\n",
              "      <td>0</td>\n",
              "      <td>0</td>\n",
              "      <td>0</td>\n",
              "      <td>0</td>\n",
              "      <td>0</td>\n",
              "      <td>0</td>\n",
              "      <td>0</td>\n",
              "      <td>0</td>\n",
              "      <td>0</td>\n",
              "      <td>0</td>\n",
              "      <td>0</td>\n",
              "      <td>0</td>\n",
              "      <td>0</td>\n",
              "      <td>0</td>\n",
              "      <td>0</td>\n",
              "      <td>0</td>\n",
              "      <td>0</td>\n",
              "      <td>0</td>\n",
              "      <td>0</td>\n",
              "      <td>0</td>\n",
              "      <td>18</td>\n",
              "      <td>0</td>\n",
              "      <td>18</td>\n",
              "    </tr>\n",
              "    <tr>\n",
              "      <th>2</th>\n",
              "      <td>2020-10-15</td>\n",
              "      <td>2020-10-21</td>\n",
              "      <td>0</td>\n",
              "      <td>0</td>\n",
              "      <td>1</td>\n",
              "      <td>0</td>\n",
              "      <td>F172</td>\n",
              "      <td>7</td>\n",
              "      <td>0</td>\n",
              "      <td>0</td>\n",
              "      <td>0</td>\n",
              "      <td>0</td>\n",
              "      <td>0</td>\n",
              "      <td>0</td>\n",
              "      <td>0</td>\n",
              "      <td>0</td>\n",
              "      <td>0</td>\n",
              "      <td>0</td>\n",
              "      <td>0</td>\n",
              "      <td>0</td>\n",
              "      <td>0</td>\n",
              "      <td>0</td>\n",
              "      <td>0</td>\n",
              "      <td>0</td>\n",
              "      <td>0</td>\n",
              "      <td>0</td>\n",
              "      <td>0</td>\n",
              "      <td>0</td>\n",
              "      <td>0</td>\n",
              "      <td>0</td>\n",
              "      <td>0</td>\n",
              "      <td>0</td>\n",
              "      <td>0</td>\n",
              "      <td>0</td>\n",
              "      <td>0</td>\n",
              "      <td>6</td>\n",
              "      <td>0</td>\n",
              "      <td>0</td>\n",
              "      <td>0</td>\n",
              "      <td>0</td>\n",
              "      <td>0</td>\n",
              "      <td>6</td>\n",
              "    </tr>\n",
              "    <tr>\n",
              "      <th>3</th>\n",
              "      <td>2020-12-03</td>\n",
              "      <td>2020-12-09</td>\n",
              "      <td>1</td>\n",
              "      <td>0</td>\n",
              "      <td>0</td>\n",
              "      <td>0</td>\n",
              "      <td>B96</td>\n",
              "      <td>7</td>\n",
              "      <td>0</td>\n",
              "      <td>0</td>\n",
              "      <td>0</td>\n",
              "      <td>0</td>\n",
              "      <td>0</td>\n",
              "      <td>0</td>\n",
              "      <td>0</td>\n",
              "      <td>0</td>\n",
              "      <td>3</td>\n",
              "      <td>0</td>\n",
              "      <td>0</td>\n",
              "      <td>0</td>\n",
              "      <td>0</td>\n",
              "      <td>0</td>\n",
              "      <td>0</td>\n",
              "      <td>0</td>\n",
              "      <td>0</td>\n",
              "      <td>0</td>\n",
              "      <td>0</td>\n",
              "      <td>0</td>\n",
              "      <td>0</td>\n",
              "      <td>0</td>\n",
              "      <td>0</td>\n",
              "      <td>0</td>\n",
              "      <td>0</td>\n",
              "      <td>0</td>\n",
              "      <td>0</td>\n",
              "      <td>0</td>\n",
              "      <td>0</td>\n",
              "      <td>0</td>\n",
              "      <td>0</td>\n",
              "      <td>0</td>\n",
              "      <td>0</td>\n",
              "      <td>3</td>\n",
              "    </tr>\n",
              "    <tr>\n",
              "      <th>4</th>\n",
              "      <td>2020-10-14</td>\n",
              "      <td>2020-10-21</td>\n",
              "      <td>0</td>\n",
              "      <td>0</td>\n",
              "      <td>1</td>\n",
              "      <td>0</td>\n",
              "      <td>F173</td>\n",
              "      <td>8</td>\n",
              "      <td>0</td>\n",
              "      <td>0</td>\n",
              "      <td>0</td>\n",
              "      <td>0</td>\n",
              "      <td>0</td>\n",
              "      <td>0</td>\n",
              "      <td>0</td>\n",
              "      <td>0</td>\n",
              "      <td>0</td>\n",
              "      <td>0</td>\n",
              "      <td>0</td>\n",
              "      <td>0</td>\n",
              "      <td>0</td>\n",
              "      <td>0</td>\n",
              "      <td>0</td>\n",
              "      <td>0</td>\n",
              "      <td>0</td>\n",
              "      <td>0</td>\n",
              "      <td>0</td>\n",
              "      <td>23</td>\n",
              "      <td>0</td>\n",
              "      <td>0</td>\n",
              "      <td>0</td>\n",
              "      <td>0</td>\n",
              "      <td>0</td>\n",
              "      <td>0</td>\n",
              "      <td>0</td>\n",
              "      <td>0</td>\n",
              "      <td>0</td>\n",
              "      <td>0</td>\n",
              "      <td>0</td>\n",
              "      <td>0</td>\n",
              "      <td>0</td>\n",
              "      <td>23</td>\n",
              "    </tr>\n",
              "    <tr>\n",
              "      <th>...</th>\n",
              "      <td>...</td>\n",
              "      <td>...</td>\n",
              "      <td>...</td>\n",
              "      <td>...</td>\n",
              "      <td>...</td>\n",
              "      <td>...</td>\n",
              "      <td>...</td>\n",
              "      <td>...</td>\n",
              "      <td>...</td>\n",
              "      <td>...</td>\n",
              "      <td>...</td>\n",
              "      <td>...</td>\n",
              "      <td>...</td>\n",
              "      <td>...</td>\n",
              "      <td>...</td>\n",
              "      <td>...</td>\n",
              "      <td>...</td>\n",
              "      <td>...</td>\n",
              "      <td>...</td>\n",
              "      <td>...</td>\n",
              "      <td>...</td>\n",
              "      <td>...</td>\n",
              "      <td>...</td>\n",
              "      <td>...</td>\n",
              "      <td>...</td>\n",
              "      <td>...</td>\n",
              "      <td>...</td>\n",
              "      <td>...</td>\n",
              "      <td>...</td>\n",
              "      <td>...</td>\n",
              "      <td>...</td>\n",
              "      <td>...</td>\n",
              "      <td>...</td>\n",
              "      <td>...</td>\n",
              "      <td>...</td>\n",
              "      <td>...</td>\n",
              "      <td>...</td>\n",
              "      <td>...</td>\n",
              "      <td>...</td>\n",
              "      <td>...</td>\n",
              "      <td>...</td>\n",
              "      <td>...</td>\n",
              "    </tr>\n",
              "    <tr>\n",
              "      <th>144</th>\n",
              "      <td>2020-10-06</td>\n",
              "      <td>2020-10-19</td>\n",
              "      <td>0</td>\n",
              "      <td>0</td>\n",
              "      <td>0</td>\n",
              "      <td>1</td>\n",
              "      <td>95</td>\n",
              "      <td>14</td>\n",
              "      <td>0</td>\n",
              "      <td>0</td>\n",
              "      <td>0</td>\n",
              "      <td>0</td>\n",
              "      <td>0</td>\n",
              "      <td>0</td>\n",
              "      <td>0</td>\n",
              "      <td>0</td>\n",
              "      <td>0</td>\n",
              "      <td>0</td>\n",
              "      <td>0</td>\n",
              "      <td>0</td>\n",
              "      <td>0</td>\n",
              "      <td>0</td>\n",
              "      <td>0</td>\n",
              "      <td>0</td>\n",
              "      <td>0</td>\n",
              "      <td>0</td>\n",
              "      <td>0</td>\n",
              "      <td>0</td>\n",
              "      <td>0</td>\n",
              "      <td>21</td>\n",
              "      <td>0</td>\n",
              "      <td>0</td>\n",
              "      <td>0</td>\n",
              "      <td>0</td>\n",
              "      <td>0</td>\n",
              "      <td>0</td>\n",
              "      <td>0</td>\n",
              "      <td>0</td>\n",
              "      <td>0</td>\n",
              "      <td>0</td>\n",
              "      <td>0</td>\n",
              "      <td>21</td>\n",
              "    </tr>\n",
              "    <tr>\n",
              "      <th>145</th>\n",
              "      <td>2020-10-06</td>\n",
              "      <td>2020-10-19</td>\n",
              "      <td>0</td>\n",
              "      <td>0</td>\n",
              "      <td>0</td>\n",
              "      <td>1</td>\n",
              "      <td>99</td>\n",
              "      <td>14</td>\n",
              "      <td>0</td>\n",
              "      <td>0</td>\n",
              "      <td>0</td>\n",
              "      <td>0</td>\n",
              "      <td>0</td>\n",
              "      <td>0</td>\n",
              "      <td>0</td>\n",
              "      <td>0</td>\n",
              "      <td>0</td>\n",
              "      <td>0</td>\n",
              "      <td>0</td>\n",
              "      <td>0</td>\n",
              "      <td>0</td>\n",
              "      <td>0</td>\n",
              "      <td>0</td>\n",
              "      <td>0</td>\n",
              "      <td>0</td>\n",
              "      <td>0</td>\n",
              "      <td>0</td>\n",
              "      <td>0</td>\n",
              "      <td>0</td>\n",
              "      <td>0</td>\n",
              "      <td>0</td>\n",
              "      <td>0</td>\n",
              "      <td>2</td>\n",
              "      <td>0</td>\n",
              "      <td>0</td>\n",
              "      <td>0</td>\n",
              "      <td>77</td>\n",
              "      <td>0</td>\n",
              "      <td>0</td>\n",
              "      <td>0</td>\n",
              "      <td>0</td>\n",
              "      <td>79</td>\n",
              "    </tr>\n",
              "    <tr>\n",
              "      <th>146</th>\n",
              "      <td>2020-10-06</td>\n",
              "      <td>2020-10-19</td>\n",
              "      <td>0</td>\n",
              "      <td>0</td>\n",
              "      <td>0</td>\n",
              "      <td>1</td>\n",
              "      <td>100</td>\n",
              "      <td>14</td>\n",
              "      <td>0</td>\n",
              "      <td>0</td>\n",
              "      <td>0</td>\n",
              "      <td>0</td>\n",
              "      <td>0</td>\n",
              "      <td>0</td>\n",
              "      <td>0</td>\n",
              "      <td>0</td>\n",
              "      <td>0</td>\n",
              "      <td>0</td>\n",
              "      <td>0</td>\n",
              "      <td>0</td>\n",
              "      <td>0</td>\n",
              "      <td>0</td>\n",
              "      <td>0</td>\n",
              "      <td>0</td>\n",
              "      <td>0</td>\n",
              "      <td>0</td>\n",
              "      <td>0</td>\n",
              "      <td>0</td>\n",
              "      <td>0</td>\n",
              "      <td>0</td>\n",
              "      <td>0</td>\n",
              "      <td>0</td>\n",
              "      <td>0</td>\n",
              "      <td>0</td>\n",
              "      <td>0</td>\n",
              "      <td>0</td>\n",
              "      <td>12</td>\n",
              "      <td>0</td>\n",
              "      <td>0</td>\n",
              "      <td>0</td>\n",
              "      <td>0</td>\n",
              "      <td>12</td>\n",
              "    </tr>\n",
              "    <tr>\n",
              "      <th>147</th>\n",
              "      <td>2020-10-06</td>\n",
              "      <td>2020-10-19</td>\n",
              "      <td>0</td>\n",
              "      <td>0</td>\n",
              "      <td>0</td>\n",
              "      <td>1</td>\n",
              "      <td>97</td>\n",
              "      <td>14</td>\n",
              "      <td>0</td>\n",
              "      <td>0</td>\n",
              "      <td>0</td>\n",
              "      <td>0</td>\n",
              "      <td>2</td>\n",
              "      <td>0</td>\n",
              "      <td>0</td>\n",
              "      <td>0</td>\n",
              "      <td>0</td>\n",
              "      <td>0</td>\n",
              "      <td>0</td>\n",
              "      <td>0</td>\n",
              "      <td>0</td>\n",
              "      <td>0</td>\n",
              "      <td>0</td>\n",
              "      <td>0</td>\n",
              "      <td>0</td>\n",
              "      <td>0</td>\n",
              "      <td>0</td>\n",
              "      <td>0</td>\n",
              "      <td>0</td>\n",
              "      <td>0</td>\n",
              "      <td>0</td>\n",
              "      <td>0</td>\n",
              "      <td>0</td>\n",
              "      <td>0</td>\n",
              "      <td>0</td>\n",
              "      <td>0</td>\n",
              "      <td>0</td>\n",
              "      <td>0</td>\n",
              "      <td>0</td>\n",
              "      <td>0</td>\n",
              "      <td>0</td>\n",
              "      <td>2</td>\n",
              "    </tr>\n",
              "    <tr>\n",
              "      <th>148</th>\n",
              "      <td>2020-12-24</td>\n",
              "      <td>2020-12-30</td>\n",
              "      <td>1</td>\n",
              "      <td>0</td>\n",
              "      <td>0</td>\n",
              "      <td>0</td>\n",
              "      <td>B140</td>\n",
              "      <td>7</td>\n",
              "      <td>0</td>\n",
              "      <td>0</td>\n",
              "      <td>0</td>\n",
              "      <td>0</td>\n",
              "      <td>0</td>\n",
              "      <td>0</td>\n",
              "      <td>0</td>\n",
              "      <td>2</td>\n",
              "      <td>0</td>\n",
              "      <td>0</td>\n",
              "      <td>0</td>\n",
              "      <td>0</td>\n",
              "      <td>0</td>\n",
              "      <td>0</td>\n",
              "      <td>0</td>\n",
              "      <td>0</td>\n",
              "      <td>0</td>\n",
              "      <td>0</td>\n",
              "      <td>0</td>\n",
              "      <td>0</td>\n",
              "      <td>0</td>\n",
              "      <td>0</td>\n",
              "      <td>0</td>\n",
              "      <td>0</td>\n",
              "      <td>0</td>\n",
              "      <td>0</td>\n",
              "      <td>0</td>\n",
              "      <td>0</td>\n",
              "      <td>0</td>\n",
              "      <td>0</td>\n",
              "      <td>2</td>\n",
              "      <td>0</td>\n",
              "      <td>0</td>\n",
              "      <td>4</td>\n",
              "    </tr>\n",
              "  </tbody>\n",
              "</table>\n",
              "<p>149 rows × 42 columns</p>\n",
              "</div>"
            ],
            "text/plain": [
              "    start_date   end_date  ...  category_17e62166fc8586dfa4d1bc0e1742c08b  count\n",
              "0   2020-11-12 2020-11-18  ...                                          0     22\n",
              "1   2020-10-29 2020-11-11  ...                                          0     18\n",
              "2   2020-10-15 2020-10-21  ...                                          0      6\n",
              "3   2020-12-03 2020-12-09  ...                                          0      3\n",
              "4   2020-10-14 2020-10-21  ...                                          0     23\n",
              "..         ...        ...  ...                                        ...    ...\n",
              "144 2020-10-06 2020-10-19  ...                                          0     21\n",
              "145 2020-10-06 2020-10-19  ...                                          0     79\n",
              "146 2020-10-06 2020-10-19  ...                                          0     12\n",
              "147 2020-10-06 2020-10-19  ...                                          0      2\n",
              "148 2020-12-24 2020-12-30  ...                                          0      4\n",
              "\n",
              "[149 rows x 42 columns]"
            ]
          },
          "metadata": {
            "tags": []
          },
          "execution_count": 41
        }
      ]
    },
    {
      "cell_type": "code",
      "metadata": {
        "id": "LiJJvgdZRkuO"
      },
      "source": [
        "train = train[list(set(train.columns) & set(ready_test.columns) | set(['UpLift']))]"
      ],
      "execution_count": null,
      "outputs": []
    },
    {
      "cell_type": "code",
      "metadata": {
        "id": "dWhv_lRETFvk"
      },
      "source": [
        "ready_test = ready_test[list(set(train.columns) & set(ready_test.columns))]"
      ],
      "execution_count": null,
      "outputs": []
    },
    {
      "cell_type": "code",
      "metadata": {
        "id": "Dw4yWSGXTKFh"
      },
      "source": [
        "train = train.sort_values(['start_date']).drop(['Offer_ID'], axis=1)"
      ],
      "execution_count": null,
      "outputs": []
    },
    {
      "cell_type": "code",
      "metadata": {
        "colab": {
          "base_uri": "https://localhost:8080/"
        },
        "id": "G9SPdDZygJpY",
        "outputId": "3f5da806-8319-473d-9dc2-a193d00a7c3e"
      },
      "source": [
        "train[592:]['start_date']"
      ],
      "execution_count": null,
      "outputs": [
        {
          "output_type": "execute_result",
          "data": {
            "text/plain": [
              "654   2020-06-29\n",
              "653   2020-06-29\n",
              "475   2020-06-29\n",
              "664   2020-06-29\n",
              "214   2020-06-29\n",
              "         ...    \n",
              "546   2020-09-10\n",
              "120   2020-09-10\n",
              "557   2020-09-10\n",
              "287   2020-09-10\n",
              "609   2020-09-10\n",
              "Name: start_date, Length: 148, dtype: datetime64[ns]"
            ]
          },
          "metadata": {
            "tags": []
          },
          "execution_count": 168
        }
      ]
    },
    {
      "cell_type": "code",
      "metadata": {
        "id": "rz6Onv68kI6d"
      },
      "source": [
        "train['month'] = train['start_date'].map(lambda x: x.month)"
      ],
      "execution_count": null,
      "outputs": []
    },
    {
      "cell_type": "code",
      "metadata": {
        "id": "aWaaRLOHp5cn"
      },
      "source": [
        "from sklearn.preprocessing import MinMaxScaler\n",
        "scaler = MinMaxScaler(feature_range = (0, 1))"
      ],
      "execution_count": null,
      "outputs": []
    },
    {
      "cell_type": "code",
      "metadata": {
        "id": "WPbScii2q1BU"
      },
      "source": [
        "train = train[list(set(train.columns) - set(['UpLift'])) + ['UpLift']]"
      ],
      "execution_count": null,
      "outputs": []
    },
    {
      "cell_type": "code",
      "metadata": {
        "id": "UfBeO9tlp2EZ"
      },
      "source": [
        "train_scaled = scaler.fit_transform(train.drop(['start_date', 'end_date'], axis=1))"
      ],
      "execution_count": null,
      "outputs": []
    },
    {
      "cell_type": "code",
      "metadata": {
        "colab": {
          "base_uri": "https://localhost:8080/"
        },
        "id": "DtvNeyAOqcVZ",
        "outputId": "0f9bd232-2ff4-4579-a6fb-a36d6d6d62d1"
      },
      "source": [
        "list(train.columns).index('UpLift')"
      ],
      "execution_count": null,
      "outputs": [
        {
          "output_type": "execute_result",
          "data": {
            "text/plain": [
              "40"
            ]
          },
          "metadata": {
            "tags": []
          },
          "execution_count": 227
        }
      ]
    },
    {
      "cell_type": "code",
      "metadata": {
        "id": "OdfNBcnVTbFF"
      },
      "source": [
        "import numpy as np\n",
        "X_train, y_train, X_val, y_val = np.array(train_scaled[:592, :-1]), np.array(train_scaled[:592, -1]), np.array(train_scaled[592:, :-1]), np.array(train_scaled[592:, -1])"
      ],
      "execution_count": null,
      "outputs": []
    },
    {
      "cell_type": "code",
      "metadata": {
        "id": "IIzogCGljeBn"
      },
      "source": [
        "need = ['count', 'days', 'Promo_type_Biweekly', 'Promo_type_Seasonal', 'Promo_type_Facades', 'Promo_type_Billboards']"
      ],
      "execution_count": null,
      "outputs": []
    },
    {
      "cell_type": "code",
      "metadata": {
        "id": "ILFzoK_LjM7U"
      },
      "source": [
        "X_train, y_train, X_val, y_val = np.array(train[need][:592]), np.array(train['UpLift'][:592]), np.array(train[need][592:]), np.array(train['UpLift'][592:])"
      ],
      "execution_count": null,
      "outputs": []
    },
    {
      "cell_type": "code",
      "metadata": {
        "colab": {
          "base_uri": "https://localhost:8080/"
        },
        "id": "njKpbflmUXYb",
        "outputId": "7ca49b8e-5dc7-4f62-cdfd-222551885f1c"
      },
      "source": [
        "y_train.shape"
      ],
      "execution_count": null,
      "outputs": [
        {
          "output_type": "execute_result",
          "data": {
            "text/plain": [
              "(592,)"
            ]
          },
          "metadata": {
            "tags": []
          },
          "execution_count": 56
        }
      ]
    },
    {
      "cell_type": "code",
      "metadata": {
        "id": "6xgoMcwwVCRR"
      },
      "source": [
        "import tensorflow as tf"
      ],
      "execution_count": null,
      "outputs": []
    },
    {
      "cell_type": "code",
      "metadata": {
        "id": "DkPUqITipeKG"
      },
      "source": [
        ""
      ],
      "execution_count": null,
      "outputs": []
    },
    {
      "cell_type": "code",
      "metadata": {
        "id": "ZyX7pfFBVj0K"
      },
      "source": [
        "BATCH_SIZE = 256\n",
        "BUFFER_SIZE = 10000"
      ],
      "execution_count": null,
      "outputs": []
    },
    {
      "cell_type": "code",
      "metadata": {
        "id": "bC7-cqUjVS2z"
      },
      "source": [
        "train_data_multi = tf.data.Dataset.from_tensor_slices((X_train.reshape(X_train.shape[0],  X_train.shape[1], 1), y_train))\n",
        "train_data_multi = train_data_multi.cache().batch(BATCH_SIZE).repeat()\n",
        "\n",
        "val_data_multi = tf.data.Dataset.from_tensor_slices((X_val.reshape(X_val.shape[0], X_val.shape[1], 1), y_val))\n",
        "val_data_multi = val_data_multi.batch(BATCH_SIZE).repeat()"
      ],
      "execution_count": null,
      "outputs": []
    },
    {
      "cell_type": "code",
      "metadata": {
        "id": "Ee0E0DGwVkWP"
      },
      "source": [
        "multi_step_model = tf.keras.models.Sequential()\n",
        "multi_step_model.add(tf.keras.layers.LSTM(32,\n",
        "                                          return_sequences=True,\n",
        "                                          input_shape=[X_train.shape[1], 1]))\n",
        "multi_step_model.add(tf.keras.layers.LSTM(16, activation='relu'))\n",
        "multi_step_model.add(tf.keras.layers.Dense(1))\n",
        "\n",
        "multi_step_model.compile(optimizer=tf.keras.optimizers.RMSprop(clipvalue=1.0), loss='mae')"
      ],
      "execution_count": null,
      "outputs": []
    },
    {
      "cell_type": "code",
      "metadata": {
        "id": "YQX-TWwPduet"
      },
      "source": [
        "from keras.models import Sequential\n",
        "from keras.layers import Dense\n",
        "from keras.layers import LSTM\n",
        "from keras.layers import Dropout"
      ],
      "execution_count": null,
      "outputs": []
    },
    {
      "cell_type": "code",
      "metadata": {
        "id": "J8RgRmWGbQ2r"
      },
      "source": [
        "model = Sequential()\n",
        "model.add(LSTM(units=50, return_sequences=True, input_shape=(X_train.shape[1], 1)))\n",
        "model.add(Dropout(0.2))\n",
        "model.add(LSTM(units=50, return_sequences=True))\n",
        "model.add(Dropout(0.2))\n",
        "\n",
        "model.add(LSTM(units=50, return_sequences=True))\n",
        "model.add(Dropout(0.2))\n",
        "\n",
        "model.add(LSTM(units=50))\n",
        "model.add(Dropout(0.2))\n",
        "model.add(Dense(units = 1))\n",
        "model.compile(optimizer = 'adam', loss = 'mae')"
      ],
      "execution_count": null,
      "outputs": []
    },
    {
      "cell_type": "code",
      "metadata": {
        "id": "5AhfZfvBWxTR"
      },
      "source": [
        "EVALUATION_INTERVAL = 300\n",
        "EPOCHS = 10"
      ],
      "execution_count": null,
      "outputs": []
    },
    {
      "cell_type": "code",
      "metadata": {
        "colab": {
          "base_uri": "https://localhost:8080/"
        },
        "id": "NuF6q01BWE7h",
        "outputId": "5eb8468c-d35b-455b-d187-baaab8832141"
      },
      "source": [
        "multi_step_history = multi_step_model.fit(train_data_multi, epochs=EPOCHS,\n",
        "                                          steps_per_epoch=EVALUATION_INTERVAL,\n",
        "                                          validation_data=val_data_multi,\n",
        "                                          validation_steps=50)"
      ],
      "execution_count": null,
      "outputs": [
        {
          "output_type": "stream",
          "text": [
            "Epoch 1/10\n",
            "300/300 [==============================] - 15s 44ms/step - loss: 0.1360 - val_loss: 0.1102\n",
            "Epoch 2/10\n",
            "300/300 [==============================] - 12s 40ms/step - loss: 0.1299 - val_loss: 0.1095\n",
            "Epoch 3/10\n",
            "300/300 [==============================] - 12s 42ms/step - loss: 0.1278 - val_loss: 0.1115\n",
            "Epoch 4/10\n",
            "300/300 [==============================] - 13s 42ms/step - loss: 0.1257 - val_loss: 0.1114\n",
            "Epoch 5/10\n",
            "300/300 [==============================] - 13s 43ms/step - loss: 0.1237 - val_loss: 0.1110\n",
            "Epoch 6/10\n",
            "300/300 [==============================] - 13s 42ms/step - loss: 0.1221 - val_loss: 0.1132\n",
            "Epoch 7/10\n",
            "300/300 [==============================] - 13s 42ms/step - loss: 0.1207 - val_loss: 0.1128\n",
            "Epoch 8/10\n",
            "300/300 [==============================] - 13s 42ms/step - loss: 0.1193 - val_loss: 0.1097\n",
            "Epoch 9/10\n",
            "300/300 [==============================] - 13s 43ms/step - loss: 0.1179 - val_loss: 0.1067\n",
            "Epoch 10/10\n",
            "300/300 [==============================] - 13s 44ms/step - loss: 0.1165 - val_loss: 0.1145\n"
          ],
          "name": "stdout"
        }
      ]
    },
    {
      "cell_type": "code",
      "metadata": {
        "colab": {
          "base_uri": "https://localhost:8080/"
        },
        "id": "9pwpBpMBWx_T",
        "outputId": "a16e6e7b-311f-4c05-a883-c4664f96d6b5"
      },
      "source": [
        "train_data_multi"
      ],
      "execution_count": null,
      "outputs": [
        {
          "output_type": "execute_result",
          "data": {
            "text/plain": [
              "<RepeatDataset shapes: ((None, 37, 1), (None,)), types: (tf.float64, tf.float64)>"
            ]
          },
          "metadata": {
            "tags": []
          },
          "execution_count": 169
        }
      ]
    },
    {
      "cell_type": "code",
      "metadata": {
        "colab": {
          "base_uri": "https://localhost:8080/"
        },
        "id": "VGlk8l4HXBLY",
        "outputId": "8e2728e4-57e9-402b-b325-a431abe9d7b4"
      },
      "source": [
        "X_train.shape[-2:]"
      ],
      "execution_count": null,
      "outputs": [
        {
          "output_type": "execute_result",
          "data": {
            "text/plain": [
              "(592, 37)"
            ]
          },
          "metadata": {
            "tags": []
          },
          "execution_count": 72
        }
      ]
    },
    {
      "cell_type": "code",
      "metadata": {
        "id": "cnmRcAyxhdWN"
      },
      "source": [
        "X, y = np.array(train.drop(['UpLift', 'start_date', 'end_date'], axis=1)), np.array(train['UpLift'])"
      ],
      "execution_count": null,
      "outputs": []
    },
    {
      "cell_type": "code",
      "metadata": {
        "id": "ouYhAGoxit_7"
      },
      "source": [
        ""
      ],
      "execution_count": null,
      "outputs": []
    },
    {
      "cell_type": "code",
      "metadata": {
        "id": "69ijylX3XQy8"
      },
      "source": [
        "import matplotlib.pyplot as plt\n",
        "\n",
        "def plot_train_history(history, title):\n",
        "  loss = history.history['loss']\n",
        "  val_loss = history.history['val_loss']\n",
        "\n",
        "  epochs = range(len(loss))\n",
        "\n",
        "  plt.figure()\n",
        "\n",
        "  plt.plot(epochs, loss, 'b', label='Training loss')\n",
        "  plt.plot(epochs, val_loss, 'r', label='Validation loss')\n",
        "  plt.title(title)\n",
        "  plt.legend()\n",
        "\n",
        "  plt.show()"
      ],
      "execution_count": null,
      "outputs": []
    },
    {
      "cell_type": "code",
      "metadata": {
        "colab": {
          "base_uri": "https://localhost:8080/",
          "height": 281
        },
        "id": "eV45DWngXxWf",
        "outputId": "72c4a038-8671-4689-fa5b-4ef0f89258e0"
      },
      "source": [
        "plot_train_history(multi_step_history, 'Multi-Step Training and validation loss')"
      ],
      "execution_count": null,
      "outputs": [
        {
          "output_type": "display_data",
          "data": {
            "image/png": "[encoded data removed]",
            "text/plain": [
              "<Figure size 432x288 with 1 Axes>"
            ]
          },
          "metadata": {
            "tags": [],
            "needs_background": "light"
          }
        }
      ]
    },
    {
      "cell_type": "code",
      "metadata": {
        "colab": {
          "base_uri": "https://localhost:8080/"
        },
        "id": "m4K9EnqAaDzZ",
        "outputId": "c54d7e48-e1e5-44e4-f021-39b66f1ef446"
      },
      "source": [
        "train.columns"
      ],
      "execution_count": null,
      "outputs": [
        {
          "output_type": "execute_result",
          "data": {
            "text/plain": [
              "Index(['category_9bf31c7ff062936a96d3c8bd1f8f2ff3',\n",
              "       'category_a5bfc9e07964f8dddeb95fc584cd965d',\n",
              "       'category_b6d767d2f8ed5d21a44b0e5886680cb9',\n",
              "       'category_1ff1de774005f8da13f42943881c655f',\n",
              "       'category_44f683a84163b3523afe57c2e008bc8c', 'count',\n",
              "       'category_fbd7939d674997cdb4692d34de8633c4',\n",
              "       'category_f457c545a9ded88f18ecee47145a72c0',\n",
              "       'category_34173cb38f07f89ddbebc2ac9128303f',\n",
              "       'category_6512bd43d9caa6e02c990b0a82652dca',\n",
              "       'category_a5771bce93e200c36f7cd9dfd0e5deaa',\n",
              "       'category_33e75ff09dd601bbe69f351039152189',\n",
              "       'category_6f4922f45568161a8cdf4ad2299f6d23',\n",
              "       'category_37693cfc748049e45d87b8c7d8b9aacd', 'start_date',\n",
              "       'Promo_type_Biweekly', 'category_d82c8d1619ad8176d665453cfb2e55f0',\n",
              "       'category_6c8349cc7260ae62e3b1396831a8398f', 'Promo_type_Seasonal',\n",
              "       'category_6ea9ab1baa0efb9e19094440c317e21b', 'Promo_type_Facades',\n",
              "       'category_a1d0c6e83f027327d8461063f4ac58a6',\n",
              "       'category_c16a5320fa475530d9583c34fd356ef5',\n",
              "       'category_c51ce410c124a10e0db5e4b97fc2af39', 'UpLift', 'end_date',\n",
              "       'category_d645920e395fedad7bbbed0eca3fe2e0',\n",
              "       'category_fc490ca45c00b1249bbe3554a4fdf6fb',\n",
              "       'category_e369853df766fa44e1ed0ff613f563bd',\n",
              "       'category_1c383cd30b7c298ab50293adfecb7b18',\n",
              "       'category_f7177163c833dff4b38fc8d2872f1ec6',\n",
              "       'category_8e296a067a37563370ded05f5a3bf3ec',\n",
              "       'category_182be0c5cdcd5072bb1864cdee4d3d6e',\n",
              "       'category_d67d8ab4f4c10bf22aa353e27879133c',\n",
              "       'category_19ca14e7ea6328a42e0eb13d585e4c22', 'Promo_type_Billboards',\n",
              "       'category_c20ad4d76fe97759aa27a0c99bff6710', 'days',\n",
              "       'category_6364d3f0f495b6ab9dcf8d3b5c6e0b01',\n",
              "       'category_17e62166fc8586dfa4d1bc0e1742c08b'],\n",
              "      dtype='object')"
            ]
          },
          "metadata": {
            "tags": []
          },
          "execution_count": 182
        }
      ]
    },
    {
      "cell_type": "code",
      "metadata": {
        "colab": {
          "base_uri": "https://localhost:8080/"
        },
        "id": "d-pVKtPBjZ-M",
        "outputId": "94cefdee-5bf8-41b2-a4f2-744da5980d47"
      },
      "source": [
        "ready_test['month'] = ready_test['start_date'].map(lambda x: x.month)"
      ],
      "execution_count": null,
      "outputs": [
        {
          "output_type": "stream",
          "text": [
            "/usr/local/lib/python3.7/dist-packages/ipykernel_launcher.py:1: SettingWithCopyWarning: \n",
            "A value is trying to be set on a copy of a slice from a DataFrame.\n",
            "Try using .loc[row_indexer,col_indexer] = value instead\n",
            "\n",
            "See the caveats in the documentation: https://pandas.pydata.org/pandas-docs/stable/user_guide/indexing.html#returning-a-view-versus-a-copy\n",
            "  \"\"\"Entry point for launching an IPython kernel.\n"
          ],
          "name": "stderr"
        }
      ]
    },
    {
      "cell_type": "code",
      "metadata": {
        "id": "KiUlVUG2sA5c"
      },
      "source": [
        "scaler = MinMaxScaler(feature_range = (0, 1))"
      ],
      "execution_count": null,
      "outputs": []
    },
    {
      "cell_type": "code",
      "metadata": {
        "colab": {
          "base_uri": "https://localhost:8080/",
          "height": 593
        },
        "id": "1e4FdaQTsBrC",
        "outputId": "4c1bee83-d6fc-44db-f2f8-962174bda4fa"
      },
      "source": [
        "train"
      ],
      "execution_count": null,
      "outputs": [
        {
          "output_type": "execute_result",
          "data": {
            "text/html": [
              "<div>\n",
              "<style scoped>\n",
              "    .dataframe tbody tr th:only-of-type {\n",
              "        vertical-align: middle;\n",
              "    }\n",
              "\n",
              "    .dataframe tbody tr th {\n",
              "        vertical-align: top;\n",
              "    }\n",
              "\n",
              "    .dataframe thead th {\n",
              "        text-align: right;\n",
              "    }\n",
              "</style>\n",
              "<table border=\"1\" class=\"dataframe\">\n",
              "  <thead>\n",
              "    <tr style=\"text-align: right;\">\n",
              "      <th></th>\n",
              "      <th>category_9bf31c7ff062936a96d3c8bd1f8f2ff3</th>\n",
              "      <th>category_a5bfc9e07964f8dddeb95fc584cd965d</th>\n",
              "      <th>category_1ff1de774005f8da13f42943881c655f</th>\n",
              "      <th>category_b6d767d2f8ed5d21a44b0e5886680cb9</th>\n",
              "      <th>category_44f683a84163b3523afe57c2e008bc8c</th>\n",
              "      <th>count</th>\n",
              "      <th>category_fbd7939d674997cdb4692d34de8633c4</th>\n",
              "      <th>category_f457c545a9ded88f18ecee47145a72c0</th>\n",
              "      <th>category_6512bd43d9caa6e02c990b0a82652dca</th>\n",
              "      <th>category_34173cb38f07f89ddbebc2ac9128303f</th>\n",
              "      <th>category_a5771bce93e200c36f7cd9dfd0e5deaa</th>\n",
              "      <th>category_33e75ff09dd601bbe69f351039152189</th>\n",
              "      <th>category_6f4922f45568161a8cdf4ad2299f6d23</th>\n",
              "      <th>category_37693cfc748049e45d87b8c7d8b9aacd</th>\n",
              "      <th>start_date</th>\n",
              "      <th>Promo_type_Biweekly</th>\n",
              "      <th>category_d82c8d1619ad8176d665453cfb2e55f0</th>\n",
              "      <th>category_6c8349cc7260ae62e3b1396831a8398f</th>\n",
              "      <th>Promo_type_Seasonal</th>\n",
              "      <th>category_6ea9ab1baa0efb9e19094440c317e21b</th>\n",
              "      <th>Promo_type_Facades</th>\n",
              "      <th>category_a1d0c6e83f027327d8461063f4ac58a6</th>\n",
              "      <th>category_c16a5320fa475530d9583c34fd356ef5</th>\n",
              "      <th>category_c51ce410c124a10e0db5e4b97fc2af39</th>\n",
              "      <th>end_date</th>\n",
              "      <th>category_d645920e395fedad7bbbed0eca3fe2e0</th>\n",
              "      <th>category_fc490ca45c00b1249bbe3554a4fdf6fb</th>\n",
              "      <th>category_e369853df766fa44e1ed0ff613f563bd</th>\n",
              "      <th>category_1c383cd30b7c298ab50293adfecb7b18</th>\n",
              "      <th>category_8e296a067a37563370ded05f5a3bf3ec</th>\n",
              "      <th>category_182be0c5cdcd5072bb1864cdee4d3d6e</th>\n",
              "      <th>category_d67d8ab4f4c10bf22aa353e27879133c</th>\n",
              "      <th>category_19ca14e7ea6328a42e0eb13d585e4c22</th>\n",
              "      <th>Promo_type_Billboards</th>\n",
              "      <th>category_6364d3f0f495b6ab9dcf8d3b5c6e0b01</th>\n",
              "      <th>category_c20ad4d76fe97759aa27a0c99bff6710</th>\n",
              "      <th>days</th>\n",
              "      <th>category_f7177163c833dff4b38fc8d2872f1ec6</th>\n",
              "      <th>category_17e62166fc8586dfa4d1bc0e1742c08b</th>\n",
              "      <th>month</th>\n",
              "      <th>UpLift</th>\n",
              "    </tr>\n",
              "  </thead>\n",
              "  <tbody>\n",
              "    <tr>\n",
              "      <th>685</th>\n",
              "      <td>0.0</td>\n",
              "      <td>0.0</td>\n",
              "      <td>0.0</td>\n",
              "      <td>0.0</td>\n",
              "      <td>0.0</td>\n",
              "      <td>517</td>\n",
              "      <td>0.0</td>\n",
              "      <td>0.0</td>\n",
              "      <td>0.0</td>\n",
              "      <td>0.0</td>\n",
              "      <td>0.0</td>\n",
              "      <td>0.0</td>\n",
              "      <td>0.0</td>\n",
              "      <td>0.0</td>\n",
              "      <td>2019-09-24</td>\n",
              "      <td>0</td>\n",
              "      <td>517.0</td>\n",
              "      <td>0.0</td>\n",
              "      <td>1</td>\n",
              "      <td>0.0</td>\n",
              "      <td>0</td>\n",
              "      <td>0.0</td>\n",
              "      <td>0.0</td>\n",
              "      <td>0.0</td>\n",
              "      <td>2019-10-07</td>\n",
              "      <td>0.0</td>\n",
              "      <td>0.0</td>\n",
              "      <td>0</td>\n",
              "      <td>0.0</td>\n",
              "      <td>0.0</td>\n",
              "      <td>0.0</td>\n",
              "      <td>0.0</td>\n",
              "      <td>0.0</td>\n",
              "      <td>0</td>\n",
              "      <td>0.0</td>\n",
              "      <td>0.0</td>\n",
              "      <td>14</td>\n",
              "      <td>0.0</td>\n",
              "      <td>0.0</td>\n",
              "      <td>9</td>\n",
              "      <td>8.690918</td>\n",
              "    </tr>\n",
              "    <tr>\n",
              "      <th>568</th>\n",
              "      <td>0.0</td>\n",
              "      <td>0.0</td>\n",
              "      <td>0.0</td>\n",
              "      <td>0.0</td>\n",
              "      <td>0.0</td>\n",
              "      <td>25</td>\n",
              "      <td>0.0</td>\n",
              "      <td>0.0</td>\n",
              "      <td>0.0</td>\n",
              "      <td>0.0</td>\n",
              "      <td>0.0</td>\n",
              "      <td>0.0</td>\n",
              "      <td>0.0</td>\n",
              "      <td>0.0</td>\n",
              "      <td>2019-09-24</td>\n",
              "      <td>0</td>\n",
              "      <td>0.0</td>\n",
              "      <td>0.0</td>\n",
              "      <td>1</td>\n",
              "      <td>0.0</td>\n",
              "      <td>0</td>\n",
              "      <td>0.0</td>\n",
              "      <td>0.0</td>\n",
              "      <td>0.0</td>\n",
              "      <td>2019-10-07</td>\n",
              "      <td>0.0</td>\n",
              "      <td>0.0</td>\n",
              "      <td>0</td>\n",
              "      <td>0.0</td>\n",
              "      <td>0.0</td>\n",
              "      <td>0.0</td>\n",
              "      <td>0.0</td>\n",
              "      <td>0.0</td>\n",
              "      <td>0</td>\n",
              "      <td>0.0</td>\n",
              "      <td>0.0</td>\n",
              "      <td>14</td>\n",
              "      <td>0.0</td>\n",
              "      <td>0.0</td>\n",
              "      <td>9</td>\n",
              "      <td>17.189989</td>\n",
              "    </tr>\n",
              "    <tr>\n",
              "      <th>723</th>\n",
              "      <td>0.0</td>\n",
              "      <td>0.0</td>\n",
              "      <td>0.0</td>\n",
              "      <td>0.0</td>\n",
              "      <td>0.0</td>\n",
              "      <td>49</td>\n",
              "      <td>0.0</td>\n",
              "      <td>0.0</td>\n",
              "      <td>0.0</td>\n",
              "      <td>0.0</td>\n",
              "      <td>0.0</td>\n",
              "      <td>0.0</td>\n",
              "      <td>0.0</td>\n",
              "      <td>0.0</td>\n",
              "      <td>2019-09-24</td>\n",
              "      <td>0</td>\n",
              "      <td>0.0</td>\n",
              "      <td>0.0</td>\n",
              "      <td>1</td>\n",
              "      <td>0.0</td>\n",
              "      <td>0</td>\n",
              "      <td>0.0</td>\n",
              "      <td>0.0</td>\n",
              "      <td>0.0</td>\n",
              "      <td>2019-10-07</td>\n",
              "      <td>0.0</td>\n",
              "      <td>0.0</td>\n",
              "      <td>0</td>\n",
              "      <td>0.0</td>\n",
              "      <td>0.0</td>\n",
              "      <td>0.0</td>\n",
              "      <td>0.0</td>\n",
              "      <td>0.0</td>\n",
              "      <td>0</td>\n",
              "      <td>0.0</td>\n",
              "      <td>0.0</td>\n",
              "      <td>14</td>\n",
              "      <td>0.0</td>\n",
              "      <td>0.0</td>\n",
              "      <td>9</td>\n",
              "      <td>6.699233</td>\n",
              "    </tr>\n",
              "    <tr>\n",
              "      <th>724</th>\n",
              "      <td>0.0</td>\n",
              "      <td>0.0</td>\n",
              "      <td>0.0</td>\n",
              "      <td>0.0</td>\n",
              "      <td>0.0</td>\n",
              "      <td>225</td>\n",
              "      <td>0.0</td>\n",
              "      <td>0.0</td>\n",
              "      <td>0.0</td>\n",
              "      <td>0.0</td>\n",
              "      <td>0.0</td>\n",
              "      <td>0.0</td>\n",
              "      <td>0.0</td>\n",
              "      <td>0.0</td>\n",
              "      <td>2019-09-24</td>\n",
              "      <td>0</td>\n",
              "      <td>0.0</td>\n",
              "      <td>0.0</td>\n",
              "      <td>1</td>\n",
              "      <td>0.0</td>\n",
              "      <td>0</td>\n",
              "      <td>0.0</td>\n",
              "      <td>0.0</td>\n",
              "      <td>0.0</td>\n",
              "      <td>2019-10-07</td>\n",
              "      <td>0.0</td>\n",
              "      <td>0.0</td>\n",
              "      <td>0</td>\n",
              "      <td>0.0</td>\n",
              "      <td>0.0</td>\n",
              "      <td>0.0</td>\n",
              "      <td>0.0</td>\n",
              "      <td>0.0</td>\n",
              "      <td>0</td>\n",
              "      <td>0.0</td>\n",
              "      <td>0.0</td>\n",
              "      <td>14</td>\n",
              "      <td>0.0</td>\n",
              "      <td>0.0</td>\n",
              "      <td>9</td>\n",
              "      <td>15.601001</td>\n",
              "    </tr>\n",
              "    <tr>\n",
              "      <th>725</th>\n",
              "      <td>0.0</td>\n",
              "      <td>0.0</td>\n",
              "      <td>0.0</td>\n",
              "      <td>0.0</td>\n",
              "      <td>0.0</td>\n",
              "      <td>42</td>\n",
              "      <td>0.0</td>\n",
              "      <td>0.0</td>\n",
              "      <td>0.0</td>\n",
              "      <td>0.0</td>\n",
              "      <td>0.0</td>\n",
              "      <td>0.0</td>\n",
              "      <td>0.0</td>\n",
              "      <td>0.0</td>\n",
              "      <td>2019-09-24</td>\n",
              "      <td>0</td>\n",
              "      <td>0.0</td>\n",
              "      <td>0.0</td>\n",
              "      <td>1</td>\n",
              "      <td>0.0</td>\n",
              "      <td>0</td>\n",
              "      <td>0.0</td>\n",
              "      <td>0.0</td>\n",
              "      <td>0.0</td>\n",
              "      <td>2019-10-07</td>\n",
              "      <td>0.0</td>\n",
              "      <td>0.0</td>\n",
              "      <td>0</td>\n",
              "      <td>0.0</td>\n",
              "      <td>0.0</td>\n",
              "      <td>0.0</td>\n",
              "      <td>0.0</td>\n",
              "      <td>0.0</td>\n",
              "      <td>0</td>\n",
              "      <td>0.0</td>\n",
              "      <td>0.0</td>\n",
              "      <td>14</td>\n",
              "      <td>0.0</td>\n",
              "      <td>0.0</td>\n",
              "      <td>9</td>\n",
              "      <td>19.979078</td>\n",
              "    </tr>\n",
              "    <tr>\n",
              "      <th>...</th>\n",
              "      <td>...</td>\n",
              "      <td>...</td>\n",
              "      <td>...</td>\n",
              "      <td>...</td>\n",
              "      <td>...</td>\n",
              "      <td>...</td>\n",
              "      <td>...</td>\n",
              "      <td>...</td>\n",
              "      <td>...</td>\n",
              "      <td>...</td>\n",
              "      <td>...</td>\n",
              "      <td>...</td>\n",
              "      <td>...</td>\n",
              "      <td>...</td>\n",
              "      <td>...</td>\n",
              "      <td>...</td>\n",
              "      <td>...</td>\n",
              "      <td>...</td>\n",
              "      <td>...</td>\n",
              "      <td>...</td>\n",
              "      <td>...</td>\n",
              "      <td>...</td>\n",
              "      <td>...</td>\n",
              "      <td>...</td>\n",
              "      <td>...</td>\n",
              "      <td>...</td>\n",
              "      <td>...</td>\n",
              "      <td>...</td>\n",
              "      <td>...</td>\n",
              "      <td>...</td>\n",
              "      <td>...</td>\n",
              "      <td>...</td>\n",
              "      <td>...</td>\n",
              "      <td>...</td>\n",
              "      <td>...</td>\n",
              "      <td>...</td>\n",
              "      <td>...</td>\n",
              "      <td>...</td>\n",
              "      <td>...</td>\n",
              "      <td>...</td>\n",
              "      <td>...</td>\n",
              "    </tr>\n",
              "    <tr>\n",
              "      <th>546</th>\n",
              "      <td>0.0</td>\n",
              "      <td>0.0</td>\n",
              "      <td>0.0</td>\n",
              "      <td>0.0</td>\n",
              "      <td>0.0</td>\n",
              "      <td>2554</td>\n",
              "      <td>0.0</td>\n",
              "      <td>0.0</td>\n",
              "      <td>0.0</td>\n",
              "      <td>0.0</td>\n",
              "      <td>0.0</td>\n",
              "      <td>0.0</td>\n",
              "      <td>2554.0</td>\n",
              "      <td>0.0</td>\n",
              "      <td>2020-09-10</td>\n",
              "      <td>0</td>\n",
              "      <td>0.0</td>\n",
              "      <td>0.0</td>\n",
              "      <td>0</td>\n",
              "      <td>0.0</td>\n",
              "      <td>0</td>\n",
              "      <td>0.0</td>\n",
              "      <td>0.0</td>\n",
              "      <td>0.0</td>\n",
              "      <td>2020-09-16</td>\n",
              "      <td>0.0</td>\n",
              "      <td>0.0</td>\n",
              "      <td>0</td>\n",
              "      <td>0.0</td>\n",
              "      <td>0.0</td>\n",
              "      <td>0.0</td>\n",
              "      <td>0.0</td>\n",
              "      <td>0.0</td>\n",
              "      <td>1</td>\n",
              "      <td>0.0</td>\n",
              "      <td>0.0</td>\n",
              "      <td>7</td>\n",
              "      <td>0.0</td>\n",
              "      <td>0.0</td>\n",
              "      <td>9</td>\n",
              "      <td>0.375943</td>\n",
              "    </tr>\n",
              "    <tr>\n",
              "      <th>120</th>\n",
              "      <td>0.0</td>\n",
              "      <td>0.0</td>\n",
              "      <td>0.0</td>\n",
              "      <td>0.0</td>\n",
              "      <td>0.0</td>\n",
              "      <td>337</td>\n",
              "      <td>0.0</td>\n",
              "      <td>0.0</td>\n",
              "      <td>0.0</td>\n",
              "      <td>0.0</td>\n",
              "      <td>0.0</td>\n",
              "      <td>0.0</td>\n",
              "      <td>0.0</td>\n",
              "      <td>0.0</td>\n",
              "      <td>2020-09-10</td>\n",
              "      <td>0</td>\n",
              "      <td>0.0</td>\n",
              "      <td>0.0</td>\n",
              "      <td>0</td>\n",
              "      <td>0.0</td>\n",
              "      <td>1</td>\n",
              "      <td>0.0</td>\n",
              "      <td>0.0</td>\n",
              "      <td>0.0</td>\n",
              "      <td>2020-09-16</td>\n",
              "      <td>0.0</td>\n",
              "      <td>0.0</td>\n",
              "      <td>0</td>\n",
              "      <td>0.0</td>\n",
              "      <td>0.0</td>\n",
              "      <td>0.0</td>\n",
              "      <td>337.0</td>\n",
              "      <td>0.0</td>\n",
              "      <td>0</td>\n",
              "      <td>0.0</td>\n",
              "      <td>0.0</td>\n",
              "      <td>7</td>\n",
              "      <td>0.0</td>\n",
              "      <td>0.0</td>\n",
              "      <td>9</td>\n",
              "      <td>0.436841</td>\n",
              "    </tr>\n",
              "    <tr>\n",
              "      <th>557</th>\n",
              "      <td>0.0</td>\n",
              "      <td>0.0</td>\n",
              "      <td>69.0</td>\n",
              "      <td>0.0</td>\n",
              "      <td>0.0</td>\n",
              "      <td>69</td>\n",
              "      <td>0.0</td>\n",
              "      <td>0.0</td>\n",
              "      <td>0.0</td>\n",
              "      <td>0.0</td>\n",
              "      <td>0.0</td>\n",
              "      <td>0.0</td>\n",
              "      <td>0.0</td>\n",
              "      <td>0.0</td>\n",
              "      <td>2020-09-10</td>\n",
              "      <td>0</td>\n",
              "      <td>0.0</td>\n",
              "      <td>0.0</td>\n",
              "      <td>0</td>\n",
              "      <td>0.0</td>\n",
              "      <td>1</td>\n",
              "      <td>0.0</td>\n",
              "      <td>0.0</td>\n",
              "      <td>0.0</td>\n",
              "      <td>2020-09-16</td>\n",
              "      <td>0.0</td>\n",
              "      <td>0.0</td>\n",
              "      <td>0</td>\n",
              "      <td>0.0</td>\n",
              "      <td>0.0</td>\n",
              "      <td>0.0</td>\n",
              "      <td>0.0</td>\n",
              "      <td>0.0</td>\n",
              "      <td>0</td>\n",
              "      <td>0.0</td>\n",
              "      <td>0.0</td>\n",
              "      <td>7</td>\n",
              "      <td>0.0</td>\n",
              "      <td>0.0</td>\n",
              "      <td>9</td>\n",
              "      <td>3.088375</td>\n",
              "    </tr>\n",
              "    <tr>\n",
              "      <th>287</th>\n",
              "      <td>0.0</td>\n",
              "      <td>0.0</td>\n",
              "      <td>0.0</td>\n",
              "      <td>0.0</td>\n",
              "      <td>0.0</td>\n",
              "      <td>605</td>\n",
              "      <td>0.0</td>\n",
              "      <td>0.0</td>\n",
              "      <td>0.0</td>\n",
              "      <td>0.0</td>\n",
              "      <td>0.0</td>\n",
              "      <td>307.0</td>\n",
              "      <td>0.0</td>\n",
              "      <td>0.0</td>\n",
              "      <td>2020-09-10</td>\n",
              "      <td>0</td>\n",
              "      <td>0.0</td>\n",
              "      <td>0.0</td>\n",
              "      <td>0</td>\n",
              "      <td>0.0</td>\n",
              "      <td>1</td>\n",
              "      <td>0.0</td>\n",
              "      <td>298.0</td>\n",
              "      <td>0.0</td>\n",
              "      <td>2020-09-16</td>\n",
              "      <td>0.0</td>\n",
              "      <td>0.0</td>\n",
              "      <td>0</td>\n",
              "      <td>0.0</td>\n",
              "      <td>0.0</td>\n",
              "      <td>0.0</td>\n",
              "      <td>0.0</td>\n",
              "      <td>0.0</td>\n",
              "      <td>0</td>\n",
              "      <td>0.0</td>\n",
              "      <td>0.0</td>\n",
              "      <td>7</td>\n",
              "      <td>0.0</td>\n",
              "      <td>0.0</td>\n",
              "      <td>9</td>\n",
              "      <td>0.875797</td>\n",
              "    </tr>\n",
              "    <tr>\n",
              "      <th>609</th>\n",
              "      <td>0.0</td>\n",
              "      <td>0.0</td>\n",
              "      <td>0.0</td>\n",
              "      <td>0.0</td>\n",
              "      <td>0.0</td>\n",
              "      <td>1126</td>\n",
              "      <td>0.0</td>\n",
              "      <td>0.0</td>\n",
              "      <td>0.0</td>\n",
              "      <td>0.0</td>\n",
              "      <td>0.0</td>\n",
              "      <td>0.0</td>\n",
              "      <td>1126.0</td>\n",
              "      <td>0.0</td>\n",
              "      <td>2020-09-10</td>\n",
              "      <td>0</td>\n",
              "      <td>0.0</td>\n",
              "      <td>0.0</td>\n",
              "      <td>0</td>\n",
              "      <td>0.0</td>\n",
              "      <td>1</td>\n",
              "      <td>0.0</td>\n",
              "      <td>0.0</td>\n",
              "      <td>0.0</td>\n",
              "      <td>2020-09-16</td>\n",
              "      <td>0.0</td>\n",
              "      <td>0.0</td>\n",
              "      <td>0</td>\n",
              "      <td>0.0</td>\n",
              "      <td>0.0</td>\n",
              "      <td>0.0</td>\n",
              "      <td>0.0</td>\n",
              "      <td>0.0</td>\n",
              "      <td>0</td>\n",
              "      <td>0.0</td>\n",
              "      <td>0.0</td>\n",
              "      <td>7</td>\n",
              "      <td>0.0</td>\n",
              "      <td>0.0</td>\n",
              "      <td>9</td>\n",
              "      <td>2.453359</td>\n",
              "    </tr>\n",
              "  </tbody>\n",
              "</table>\n",
              "<p>740 rows × 41 columns</p>\n",
              "</div>"
            ],
            "text/plain": [
              "     category_9bf31c7ff062936a96d3c8bd1f8f2ff3  ...     UpLift\n",
              "685                                        0.0  ...   8.690918\n",
              "568                                        0.0  ...  17.189989\n",
              "723                                        0.0  ...   6.699233\n",
              "724                                        0.0  ...  15.601001\n",
              "725                                        0.0  ...  19.979078\n",
              "..                                         ...  ...        ...\n",
              "546                                        0.0  ...   0.375943\n",
              "120                                        0.0  ...   0.436841\n",
              "557                                        0.0  ...   3.088375\n",
              "287                                        0.0  ...   0.875797\n",
              "609                                        0.0  ...   2.453359\n",
              "\n",
              "[740 rows x 41 columns]"
            ]
          },
          "metadata": {
            "tags": []
          },
          "execution_count": 235
        }
      ]
    },
    {
      "cell_type": "code",
      "metadata": {
        "colab": {
          "base_uri": "https://localhost:8080/",
          "height": 427
        },
        "id": "HGtc3j7Ymjz5",
        "outputId": "d1abe41b-4eda-48c4-92fe-75eb6fa8d630"
      },
      "source": [
        "ready_test[train.drop(['UpLift', 'start_date', 'end_date'], axis=1).columns]"
      ],
      "execution_count": null,
      "outputs": [
        {
          "output_type": "execute_result",
          "data": {
            "text/html": [
              "<div>\n",
              "<style scoped>\n",
              "    .dataframe tbody tr th:only-of-type {\n",
              "        vertical-align: middle;\n",
              "    }\n",
              "\n",
              "    .dataframe tbody tr th {\n",
              "        vertical-align: top;\n",
              "    }\n",
              "\n",
              "    .dataframe thead th {\n",
              "        text-align: right;\n",
              "    }\n",
              "</style>\n",
              "<table border=\"1\" class=\"dataframe\">\n",
              "  <thead>\n",
              "    <tr style=\"text-align: right;\">\n",
              "      <th></th>\n",
              "      <th>category_9bf31c7ff062936a96d3c8bd1f8f2ff3</th>\n",
              "      <th>category_a5bfc9e07964f8dddeb95fc584cd965d</th>\n",
              "      <th>category_1ff1de774005f8da13f42943881c655f</th>\n",
              "      <th>category_b6d767d2f8ed5d21a44b0e5886680cb9</th>\n",
              "      <th>category_44f683a84163b3523afe57c2e008bc8c</th>\n",
              "      <th>count</th>\n",
              "      <th>category_fbd7939d674997cdb4692d34de8633c4</th>\n",
              "      <th>category_f457c545a9ded88f18ecee47145a72c0</th>\n",
              "      <th>category_6512bd43d9caa6e02c990b0a82652dca</th>\n",
              "      <th>category_34173cb38f07f89ddbebc2ac9128303f</th>\n",
              "      <th>category_a5771bce93e200c36f7cd9dfd0e5deaa</th>\n",
              "      <th>category_33e75ff09dd601bbe69f351039152189</th>\n",
              "      <th>category_6f4922f45568161a8cdf4ad2299f6d23</th>\n",
              "      <th>category_37693cfc748049e45d87b8c7d8b9aacd</th>\n",
              "      <th>Promo_type_Biweekly</th>\n",
              "      <th>category_d82c8d1619ad8176d665453cfb2e55f0</th>\n",
              "      <th>category_6c8349cc7260ae62e3b1396831a8398f</th>\n",
              "      <th>Promo_type_Seasonal</th>\n",
              "      <th>category_6ea9ab1baa0efb9e19094440c317e21b</th>\n",
              "      <th>Promo_type_Facades</th>\n",
              "      <th>category_a1d0c6e83f027327d8461063f4ac58a6</th>\n",
              "      <th>category_c16a5320fa475530d9583c34fd356ef5</th>\n",
              "      <th>category_c51ce410c124a10e0db5e4b97fc2af39</th>\n",
              "      <th>category_d645920e395fedad7bbbed0eca3fe2e0</th>\n",
              "      <th>category_fc490ca45c00b1249bbe3554a4fdf6fb</th>\n",
              "      <th>category_e369853df766fa44e1ed0ff613f563bd</th>\n",
              "      <th>category_1c383cd30b7c298ab50293adfecb7b18</th>\n",
              "      <th>category_8e296a067a37563370ded05f5a3bf3ec</th>\n",
              "      <th>category_182be0c5cdcd5072bb1864cdee4d3d6e</th>\n",
              "      <th>category_d67d8ab4f4c10bf22aa353e27879133c</th>\n",
              "      <th>category_19ca14e7ea6328a42e0eb13d585e4c22</th>\n",
              "      <th>Promo_type_Billboards</th>\n",
              "      <th>category_6364d3f0f495b6ab9dcf8d3b5c6e0b01</th>\n",
              "      <th>category_c20ad4d76fe97759aa27a0c99bff6710</th>\n",
              "      <th>days</th>\n",
              "      <th>category_f7177163c833dff4b38fc8d2872f1ec6</th>\n",
              "      <th>category_17e62166fc8586dfa4d1bc0e1742c08b</th>\n",
              "      <th>month</th>\n",
              "    </tr>\n",
              "  </thead>\n",
              "  <tbody>\n",
              "    <tr>\n",
              "      <th>0</th>\n",
              "      <td>0</td>\n",
              "      <td>0</td>\n",
              "      <td>0</td>\n",
              "      <td>0</td>\n",
              "      <td>0</td>\n",
              "      <td>22</td>\n",
              "      <td>0</td>\n",
              "      <td>0</td>\n",
              "      <td>0</td>\n",
              "      <td>0</td>\n",
              "      <td>0</td>\n",
              "      <td>0</td>\n",
              "      <td>0</td>\n",
              "      <td>0</td>\n",
              "      <td>0</td>\n",
              "      <td>0</td>\n",
              "      <td>0</td>\n",
              "      <td>0</td>\n",
              "      <td>0</td>\n",
              "      <td>1</td>\n",
              "      <td>0</td>\n",
              "      <td>0</td>\n",
              "      <td>0</td>\n",
              "      <td>0</td>\n",
              "      <td>0</td>\n",
              "      <td>0</td>\n",
              "      <td>0</td>\n",
              "      <td>0</td>\n",
              "      <td>0</td>\n",
              "      <td>22</td>\n",
              "      <td>0</td>\n",
              "      <td>0</td>\n",
              "      <td>0</td>\n",
              "      <td>0</td>\n",
              "      <td>7</td>\n",
              "      <td>0</td>\n",
              "      <td>0</td>\n",
              "      <td>11</td>\n",
              "    </tr>\n",
              "    <tr>\n",
              "      <th>1</th>\n",
              "      <td>0</td>\n",
              "      <td>0</td>\n",
              "      <td>0</td>\n",
              "      <td>0</td>\n",
              "      <td>0</td>\n",
              "      <td>18</td>\n",
              "      <td>0</td>\n",
              "      <td>0</td>\n",
              "      <td>0</td>\n",
              "      <td>0</td>\n",
              "      <td>0</td>\n",
              "      <td>0</td>\n",
              "      <td>0</td>\n",
              "      <td>0</td>\n",
              "      <td>0</td>\n",
              "      <td>0</td>\n",
              "      <td>0</td>\n",
              "      <td>0</td>\n",
              "      <td>0</td>\n",
              "      <td>0</td>\n",
              "      <td>0</td>\n",
              "      <td>0</td>\n",
              "      <td>0</td>\n",
              "      <td>0</td>\n",
              "      <td>0</td>\n",
              "      <td>0</td>\n",
              "      <td>0</td>\n",
              "      <td>0</td>\n",
              "      <td>0</td>\n",
              "      <td>0</td>\n",
              "      <td>0</td>\n",
              "      <td>1</td>\n",
              "      <td>18</td>\n",
              "      <td>0</td>\n",
              "      <td>14</td>\n",
              "      <td>0</td>\n",
              "      <td>0</td>\n",
              "      <td>10</td>\n",
              "    </tr>\n",
              "    <tr>\n",
              "      <th>2</th>\n",
              "      <td>0</td>\n",
              "      <td>0</td>\n",
              "      <td>0</td>\n",
              "      <td>0</td>\n",
              "      <td>0</td>\n",
              "      <td>6</td>\n",
              "      <td>0</td>\n",
              "      <td>0</td>\n",
              "      <td>0</td>\n",
              "      <td>0</td>\n",
              "      <td>0</td>\n",
              "      <td>0</td>\n",
              "      <td>0</td>\n",
              "      <td>0</td>\n",
              "      <td>0</td>\n",
              "      <td>0</td>\n",
              "      <td>0</td>\n",
              "      <td>0</td>\n",
              "      <td>0</td>\n",
              "      <td>1</td>\n",
              "      <td>0</td>\n",
              "      <td>0</td>\n",
              "      <td>0</td>\n",
              "      <td>0</td>\n",
              "      <td>0</td>\n",
              "      <td>0</td>\n",
              "      <td>0</td>\n",
              "      <td>0</td>\n",
              "      <td>6</td>\n",
              "      <td>0</td>\n",
              "      <td>0</td>\n",
              "      <td>0</td>\n",
              "      <td>0</td>\n",
              "      <td>0</td>\n",
              "      <td>7</td>\n",
              "      <td>0</td>\n",
              "      <td>0</td>\n",
              "      <td>10</td>\n",
              "    </tr>\n",
              "    <tr>\n",
              "      <th>3</th>\n",
              "      <td>0</td>\n",
              "      <td>0</td>\n",
              "      <td>0</td>\n",
              "      <td>0</td>\n",
              "      <td>0</td>\n",
              "      <td>3</td>\n",
              "      <td>0</td>\n",
              "      <td>0</td>\n",
              "      <td>0</td>\n",
              "      <td>3</td>\n",
              "      <td>0</td>\n",
              "      <td>0</td>\n",
              "      <td>0</td>\n",
              "      <td>0</td>\n",
              "      <td>0</td>\n",
              "      <td>0</td>\n",
              "      <td>0</td>\n",
              "      <td>0</td>\n",
              "      <td>0</td>\n",
              "      <td>0</td>\n",
              "      <td>0</td>\n",
              "      <td>0</td>\n",
              "      <td>0</td>\n",
              "      <td>0</td>\n",
              "      <td>0</td>\n",
              "      <td>0</td>\n",
              "      <td>0</td>\n",
              "      <td>0</td>\n",
              "      <td>0</td>\n",
              "      <td>0</td>\n",
              "      <td>0</td>\n",
              "      <td>1</td>\n",
              "      <td>0</td>\n",
              "      <td>0</td>\n",
              "      <td>7</td>\n",
              "      <td>0</td>\n",
              "      <td>0</td>\n",
              "      <td>12</td>\n",
              "    </tr>\n",
              "    <tr>\n",
              "      <th>4</th>\n",
              "      <td>0</td>\n",
              "      <td>0</td>\n",
              "      <td>0</td>\n",
              "      <td>0</td>\n",
              "      <td>0</td>\n",
              "      <td>23</td>\n",
              "      <td>0</td>\n",
              "      <td>0</td>\n",
              "      <td>0</td>\n",
              "      <td>0</td>\n",
              "      <td>0</td>\n",
              "      <td>0</td>\n",
              "      <td>0</td>\n",
              "      <td>0</td>\n",
              "      <td>0</td>\n",
              "      <td>0</td>\n",
              "      <td>0</td>\n",
              "      <td>0</td>\n",
              "      <td>0</td>\n",
              "      <td>1</td>\n",
              "      <td>0</td>\n",
              "      <td>0</td>\n",
              "      <td>0</td>\n",
              "      <td>23</td>\n",
              "      <td>0</td>\n",
              "      <td>0</td>\n",
              "      <td>0</td>\n",
              "      <td>0</td>\n",
              "      <td>0</td>\n",
              "      <td>0</td>\n",
              "      <td>0</td>\n",
              "      <td>0</td>\n",
              "      <td>0</td>\n",
              "      <td>0</td>\n",
              "      <td>8</td>\n",
              "      <td>0</td>\n",
              "      <td>0</td>\n",
              "      <td>10</td>\n",
              "    </tr>\n",
              "    <tr>\n",
              "      <th>...</th>\n",
              "      <td>...</td>\n",
              "      <td>...</td>\n",
              "      <td>...</td>\n",
              "      <td>...</td>\n",
              "      <td>...</td>\n",
              "      <td>...</td>\n",
              "      <td>...</td>\n",
              "      <td>...</td>\n",
              "      <td>...</td>\n",
              "      <td>...</td>\n",
              "      <td>...</td>\n",
              "      <td>...</td>\n",
              "      <td>...</td>\n",
              "      <td>...</td>\n",
              "      <td>...</td>\n",
              "      <td>...</td>\n",
              "      <td>...</td>\n",
              "      <td>...</td>\n",
              "      <td>...</td>\n",
              "      <td>...</td>\n",
              "      <td>...</td>\n",
              "      <td>...</td>\n",
              "      <td>...</td>\n",
              "      <td>...</td>\n",
              "      <td>...</td>\n",
              "      <td>...</td>\n",
              "      <td>...</td>\n",
              "      <td>...</td>\n",
              "      <td>...</td>\n",
              "      <td>...</td>\n",
              "      <td>...</td>\n",
              "      <td>...</td>\n",
              "      <td>...</td>\n",
              "      <td>...</td>\n",
              "      <td>...</td>\n",
              "      <td>...</td>\n",
              "      <td>...</td>\n",
              "      <td>...</td>\n",
              "    </tr>\n",
              "    <tr>\n",
              "      <th>144</th>\n",
              "      <td>0</td>\n",
              "      <td>0</td>\n",
              "      <td>0</td>\n",
              "      <td>0</td>\n",
              "      <td>0</td>\n",
              "      <td>21</td>\n",
              "      <td>0</td>\n",
              "      <td>0</td>\n",
              "      <td>0</td>\n",
              "      <td>0</td>\n",
              "      <td>0</td>\n",
              "      <td>0</td>\n",
              "      <td>0</td>\n",
              "      <td>0</td>\n",
              "      <td>0</td>\n",
              "      <td>0</td>\n",
              "      <td>0</td>\n",
              "      <td>1</td>\n",
              "      <td>0</td>\n",
              "      <td>0</td>\n",
              "      <td>0</td>\n",
              "      <td>0</td>\n",
              "      <td>0</td>\n",
              "      <td>0</td>\n",
              "      <td>0</td>\n",
              "      <td>21</td>\n",
              "      <td>0</td>\n",
              "      <td>0</td>\n",
              "      <td>0</td>\n",
              "      <td>0</td>\n",
              "      <td>0</td>\n",
              "      <td>0</td>\n",
              "      <td>0</td>\n",
              "      <td>0</td>\n",
              "      <td>14</td>\n",
              "      <td>0</td>\n",
              "      <td>0</td>\n",
              "      <td>10</td>\n",
              "    </tr>\n",
              "    <tr>\n",
              "      <th>145</th>\n",
              "      <td>0</td>\n",
              "      <td>0</td>\n",
              "      <td>0</td>\n",
              "      <td>0</td>\n",
              "      <td>0</td>\n",
              "      <td>79</td>\n",
              "      <td>0</td>\n",
              "      <td>0</td>\n",
              "      <td>0</td>\n",
              "      <td>0</td>\n",
              "      <td>0</td>\n",
              "      <td>0</td>\n",
              "      <td>0</td>\n",
              "      <td>0</td>\n",
              "      <td>0</td>\n",
              "      <td>0</td>\n",
              "      <td>0</td>\n",
              "      <td>1</td>\n",
              "      <td>0</td>\n",
              "      <td>0</td>\n",
              "      <td>0</td>\n",
              "      <td>0</td>\n",
              "      <td>0</td>\n",
              "      <td>0</td>\n",
              "      <td>0</td>\n",
              "      <td>0</td>\n",
              "      <td>0</td>\n",
              "      <td>0</td>\n",
              "      <td>0</td>\n",
              "      <td>77</td>\n",
              "      <td>0</td>\n",
              "      <td>0</td>\n",
              "      <td>0</td>\n",
              "      <td>0</td>\n",
              "      <td>14</td>\n",
              "      <td>2</td>\n",
              "      <td>0</td>\n",
              "      <td>10</td>\n",
              "    </tr>\n",
              "    <tr>\n",
              "      <th>146</th>\n",
              "      <td>0</td>\n",
              "      <td>0</td>\n",
              "      <td>0</td>\n",
              "      <td>0</td>\n",
              "      <td>0</td>\n",
              "      <td>12</td>\n",
              "      <td>0</td>\n",
              "      <td>0</td>\n",
              "      <td>0</td>\n",
              "      <td>0</td>\n",
              "      <td>0</td>\n",
              "      <td>0</td>\n",
              "      <td>0</td>\n",
              "      <td>0</td>\n",
              "      <td>0</td>\n",
              "      <td>0</td>\n",
              "      <td>0</td>\n",
              "      <td>1</td>\n",
              "      <td>0</td>\n",
              "      <td>0</td>\n",
              "      <td>0</td>\n",
              "      <td>0</td>\n",
              "      <td>0</td>\n",
              "      <td>0</td>\n",
              "      <td>0</td>\n",
              "      <td>0</td>\n",
              "      <td>0</td>\n",
              "      <td>0</td>\n",
              "      <td>0</td>\n",
              "      <td>12</td>\n",
              "      <td>0</td>\n",
              "      <td>0</td>\n",
              "      <td>0</td>\n",
              "      <td>0</td>\n",
              "      <td>14</td>\n",
              "      <td>0</td>\n",
              "      <td>0</td>\n",
              "      <td>10</td>\n",
              "    </tr>\n",
              "    <tr>\n",
              "      <th>147</th>\n",
              "      <td>0</td>\n",
              "      <td>0</td>\n",
              "      <td>0</td>\n",
              "      <td>0</td>\n",
              "      <td>2</td>\n",
              "      <td>2</td>\n",
              "      <td>0</td>\n",
              "      <td>0</td>\n",
              "      <td>0</td>\n",
              "      <td>0</td>\n",
              "      <td>0</td>\n",
              "      <td>0</td>\n",
              "      <td>0</td>\n",
              "      <td>0</td>\n",
              "      <td>0</td>\n",
              "      <td>0</td>\n",
              "      <td>0</td>\n",
              "      <td>1</td>\n",
              "      <td>0</td>\n",
              "      <td>0</td>\n",
              "      <td>0</td>\n",
              "      <td>0</td>\n",
              "      <td>0</td>\n",
              "      <td>0</td>\n",
              "      <td>0</td>\n",
              "      <td>0</td>\n",
              "      <td>0</td>\n",
              "      <td>0</td>\n",
              "      <td>0</td>\n",
              "      <td>0</td>\n",
              "      <td>0</td>\n",
              "      <td>0</td>\n",
              "      <td>0</td>\n",
              "      <td>0</td>\n",
              "      <td>14</td>\n",
              "      <td>0</td>\n",
              "      <td>0</td>\n",
              "      <td>10</td>\n",
              "    </tr>\n",
              "    <tr>\n",
              "      <th>148</th>\n",
              "      <td>0</td>\n",
              "      <td>0</td>\n",
              "      <td>0</td>\n",
              "      <td>0</td>\n",
              "      <td>0</td>\n",
              "      <td>4</td>\n",
              "      <td>0</td>\n",
              "      <td>0</td>\n",
              "      <td>2</td>\n",
              "      <td>0</td>\n",
              "      <td>0</td>\n",
              "      <td>0</td>\n",
              "      <td>0</td>\n",
              "      <td>0</td>\n",
              "      <td>0</td>\n",
              "      <td>0</td>\n",
              "      <td>0</td>\n",
              "      <td>0</td>\n",
              "      <td>0</td>\n",
              "      <td>0</td>\n",
              "      <td>0</td>\n",
              "      <td>0</td>\n",
              "      <td>0</td>\n",
              "      <td>0</td>\n",
              "      <td>0</td>\n",
              "      <td>0</td>\n",
              "      <td>0</td>\n",
              "      <td>0</td>\n",
              "      <td>0</td>\n",
              "      <td>0</td>\n",
              "      <td>0</td>\n",
              "      <td>1</td>\n",
              "      <td>0</td>\n",
              "      <td>2</td>\n",
              "      <td>7</td>\n",
              "      <td>0</td>\n",
              "      <td>0</td>\n",
              "      <td>12</td>\n",
              "    </tr>\n",
              "  </tbody>\n",
              "</table>\n",
              "<p>149 rows × 38 columns</p>\n",
              "</div>"
            ],
            "text/plain": [
              "     category_9bf31c7ff062936a96d3c8bd1f8f2ff3  ...  month\n",
              "0                                            0  ...     11\n",
              "1                                            0  ...     10\n",
              "2                                            0  ...     10\n",
              "3                                            0  ...     12\n",
              "4                                            0  ...     10\n",
              "..                                         ...  ...    ...\n",
              "144                                          0  ...     10\n",
              "145                                          0  ...     10\n",
              "146                                          0  ...     10\n",
              "147                                          0  ...     10\n",
              "148                                          0  ...     12\n",
              "\n",
              "[149 rows x 38 columns]"
            ]
          },
          "metadata": {
            "tags": []
          },
          "execution_count": 236
        }
      ]
    },
    {
      "cell_type": "code",
      "metadata": {
        "id": "4lXDYfQXmv3z"
      },
      "source": [
        "train_scaled = scaler.fit_transform(train.drop(['start_date', 'end_date'], axis=1))"
      ],
      "execution_count": null,
      "outputs": []
    },
    {
      "cell_type": "code",
      "metadata": {
        "id": "L5tLMintmy6V"
      },
      "source": [
        "X, y = np.array(train.drop(['UpLift', 'start_date', 'end_date'], axis=1)), np.array(train['UpLift'])"
      ],
      "execution_count": null,
      "outputs": []
    },
    {
      "cell_type": "code",
      "metadata": {
        "id": "JMYnb4x9m9Uc"
      },
      "source": [
        "X_test = ready_test[train.drop(['UpLift',  'end_date'], axis=1).columns]"
      ],
      "execution_count": null,
      "outputs": []
    },
    {
      "cell_type": "code",
      "metadata": {
        "colab": {
          "base_uri": "https://localhost:8080/"
        },
        "id": "Np0HHwEMnBtO",
        "outputId": "22295aff-bb30-4aec-aa1e-0dfc8c6f4e2f"
      },
      "source": [
        "X_test['UpLift'] = np.zeros(149)"
      ],
      "execution_count": null,
      "outputs": [
        {
          "output_type": "stream",
          "text": [
            "/usr/local/lib/python3.7/dist-packages/ipykernel_launcher.py:1: SettingWithCopyWarning: \n",
            "A value is trying to be set on a copy of a slice from a DataFrame.\n",
            "Try using .loc[row_indexer,col_indexer] = value instead\n",
            "\n",
            "See the caveats in the documentation: https://pandas.pydata.org/pandas-docs/stable/user_guide/indexing.html#returning-a-view-versus-a-copy\n",
            "  \"\"\"Entry point for launching an IPython kernel.\n"
          ],
          "name": "stderr"
        }
      ]
    },
    {
      "cell_type": "code",
      "metadata": {
        "id": "L3TjBfdMtILj"
      },
      "source": [
        "X_test = scaler.transform(X_test)"
      ],
      "execution_count": null,
      "outputs": []
    },
    {
      "cell_type": "code",
      "metadata": {
        "id": "vkggGq3rnKgq"
      },
      "source": [
        "BATCH_SIZE = 256\n",
        "BUFFER_SIZE = 10000"
      ],
      "execution_count": null,
      "outputs": []
    },
    {
      "cell_type": "code",
      "metadata": {
        "id": "ViM6jk8ynKgr"
      },
      "source": [
        "train_data_multi = tf.data.Dataset.from_tensor_slices((X.reshape(X.shape[0],  X.shape[1], 1), y))\n",
        "train_data_multi = train_data_multi.cache().batch(BATCH_SIZE).repeat()\n",
        "\n"
      ],
      "execution_count": null,
      "outputs": []
    },
    {
      "cell_type": "code",
      "metadata": {
        "id": "Fr-8bfq0nKgr"
      },
      "source": [
        "multi_step_model = tf.keras.models.Sequential()\n",
        "multi_step_model.add(tf.keras.layers.LSTM(32,\n",
        "                                          return_sequences=True,\n",
        "                                          input_shape=[X.shape[1], 1]))\n",
        "multi_step_model.add(tf.keras.layers.LSTM(16, activation='relu'))\n",
        "multi_step_model.add(tf.keras.layers.Dense(1))\n",
        "\n",
        "multi_step_model.compile(optimizer=tf.keras.optimizers.RMSprop(clipvalue=1.0), loss='mae')"
      ],
      "execution_count": null,
      "outputs": []
    },
    {
      "cell_type": "code",
      "metadata": {
        "colab": {
          "base_uri": "https://localhost:8080/"
        },
        "id": "X2Hcue-OnKgs",
        "outputId": "934c95e7-2b72-4571-b9c9-5d3eda42c770"
      },
      "source": [
        "multi_step_history = multi_step_model.fit(train_data_multi, epochs=5,\n",
        "                                          steps_per_epoch=EVALUATION_INTERVAL,\n",
        ")"
      ],
      "execution_count": null,
      "outputs": [
        {
          "output_type": "stream",
          "text": [
            "Epoch 1/5\n",
            "300/300 [==============================] - 16s 43ms/step - loss: 4.2537\n",
            "Epoch 2/5\n",
            "300/300 [==============================] - 13s 44ms/step - loss: 4.0118\n",
            "Epoch 3/5\n",
            "300/300 [==============================] - 13s 44ms/step - loss: 3.7581\n",
            "Epoch 4/5\n",
            "300/300 [==============================] - 13s 43ms/step - loss: 3.5963\n",
            "Epoch 5/5\n",
            "300/300 [==============================] - 14s 46ms/step - loss: 3.5022\n"
          ],
          "name": "stdout"
        }
      ]
    },
    {
      "cell_type": "code",
      "metadata": {
        "id": "0Qz8Wri3tR3b"
      },
      "source": [
        "X_test = np.array(X_test.sort_values(['start_date']).drop(['start_date'], axis=1))"
      ],
      "execution_count": null,
      "outputs": []
    },
    {
      "cell_type": "code",
      "metadata": {
        "id": "tGJ8EZnAnXQ-"
      },
      "source": [
        "y_pred = multi_step_model.predict(X_test.reshape(X_test.shape[0],  X_test.shape[1], 1))"
      ],
      "execution_count": null,
      "outputs": []
    },
    {
      "cell_type": "code",
      "metadata": {
        "colab": {
          "base_uri": "https://localhost:8080/"
        },
        "id": "cQk7uaW3oCEU",
        "outputId": "5e749f60-dfa6-4ef1-a587-fffe0159563e"
      },
      "source": [
        "y_pred"
      ],
      "execution_count": null,
      "outputs": [
        {
          "output_type": "execute_result",
          "data": {
            "text/plain": [
              "array([[ 4.6172333e+00],\n",
              "       [ 5.0474358e+00],\n",
              "       [ 3.9556348e+00],\n",
              "       [ 4.5508156e+00],\n",
              "       [ 2.2252471e+00],\n",
              "       [ 4.7680430e+00],\n",
              "       [ 3.8457439e+00],\n",
              "       [ 6.9341025e+00],\n",
              "       [ 1.6910198e+00],\n",
              "       [ 7.7043400e+00],\n",
              "       [ 2.2167175e+00],\n",
              "       [ 2.0397136e+00],\n",
              "       [ 5.5525756e+00],\n",
              "       [ 2.1030433e+00],\n",
              "       [ 4.0800481e+00],\n",
              "       [ 3.7958210e+00],\n",
              "       [ 1.8797443e+00],\n",
              "       [ 5.1746244e+00],\n",
              "       [ 1.9802310e+00],\n",
              "       [-2.5173581e+00],\n",
              "       [ 1.8797443e+00],\n",
              "       [ 2.1744182e+00],\n",
              "       [ 4.5839562e+00],\n",
              "       [ 3.1360366e+00],\n",
              "       [ 4.1442618e+00],\n",
              "       [ 6.5860524e+00],\n",
              "       [-3.5430962e+01],\n",
              "       [ 4.7589417e+00],\n",
              "       [ 6.1727338e+00],\n",
              "       [ 1.9326923e+00],\n",
              "       [-3.7572624e+01],\n",
              "       [-2.2888971e+01],\n",
              "       [ 6.7194662e+00],\n",
              "       [ 3.1360366e+00],\n",
              "       [ 2.8362472e+00],\n",
              "       [ 2.9045093e+00],\n",
              "       [ 2.7564237e+00],\n",
              "       [ 4.8998675e+00],\n",
              "       [-1.5201123e+00],\n",
              "       [ 1.9271019e+00],\n",
              "       [ 1.5504787e+00],\n",
              "       [ 6.3220367e+00],\n",
              "       [-6.0312778e-01],\n",
              "       [ 2.2453563e+00],\n",
              "       [ 3.2208984e+00],\n",
              "       [ 2.1717021e+00],\n",
              "       [ 4.3897977e+00],\n",
              "       [ 7.5709615e+00],\n",
              "       [ 1.5573490e+00],\n",
              "       [-2.6469141e+01],\n",
              "       [ 2.1180084e+00],\n",
              "       [-6.6578037e-01],\n",
              "       [ 2.2717597e+00],\n",
              "       [ 6.6742096e+00],\n",
              "       [-1.1939099e+00],\n",
              "       [ 2.3730657e+00],\n",
              "       [ 4.9965014e+00],\n",
              "       [ 2.1516864e+00],\n",
              "       [ 3.7974045e+00],\n",
              "       [ 6.0959949e+00],\n",
              "       [ 3.6402481e+00],\n",
              "       [ 2.0518405e+00],\n",
              "       [ 5.5454836e+00],\n",
              "       [ 2.4374416e+00],\n",
              "       [ 3.3387525e+00],\n",
              "       [ 3.6402481e+00],\n",
              "       [ 3.5445468e+00],\n",
              "       [ 2.6015403e+00],\n",
              "       [ 4.6852584e+00],\n",
              "       [ 2.7594116e+00],\n",
              "       [ 2.5071189e+00],\n",
              "       [ 2.8760488e+00],\n",
              "       [ 2.2334468e+00],\n",
              "       [ 3.5533741e+00],\n",
              "       [ 2.8715923e+00],\n",
              "       [ 2.9811056e+00],\n",
              "       [-2.7153589e+01],\n",
              "       [ 2.2181804e+00],\n",
              "       [ 2.2506673e+00],\n",
              "       [ 3.8399107e+00],\n",
              "       [ 2.1834743e+00],\n",
              "       [ 2.6996830e+00],\n",
              "       [ 4.7437015e+00],\n",
              "       [ 2.7079292e-02],\n",
              "       [ 3.6870058e+00],\n",
              "       [ 2.4025199e+00],\n",
              "       [ 2.4680755e+00],\n",
              "       [ 4.4644094e+00],\n",
              "       [ 2.1258190e+00],\n",
              "       [ 5.1929345e+00],\n",
              "       [ 8.6059542e+00],\n",
              "       [ 5.3475885e+00],\n",
              "       [ 6.0883846e+00],\n",
              "       [ 3.3682344e+00],\n",
              "       [ 9.1065836e+00],\n",
              "       [ 2.9906995e+00],\n",
              "       [ 2.9187381e+00],\n",
              "       [ 2.8425300e+00],\n",
              "       [ 7.4136257e+00],\n",
              "       [ 2.1986129e+00],\n",
              "       [ 5.3475885e+00],\n",
              "       [ 3.2855766e+00],\n",
              "       [ 2.4322879e+00],\n",
              "       [ 3.8752515e+00],\n",
              "       [ 4.0220971e+00],\n",
              "       [ 2.7537620e+00],\n",
              "       [-1.0904324e+00],\n",
              "       [-8.6776096e-01],\n",
              "       [-1.6238530e+00],\n",
              "       [ 1.7538707e+00],\n",
              "       [ 3.6254041e+00],\n",
              "       [ 6.2743211e+00],\n",
              "       [ 2.3167942e+00],\n",
              "       [ 2.2710197e+00],\n",
              "       [ 2.5328052e+00],\n",
              "       [ 2.3959835e+00],\n",
              "       [ 5.9537563e+00],\n",
              "       [ 6.8380914e+00],\n",
              "       [ 2.9580142e+00],\n",
              "       [ 1.9316509e+00],\n",
              "       [ 5.5956521e+00],\n",
              "       [ 4.2211022e+00],\n",
              "       [ 2.5779445e+00],\n",
              "       [ 4.3430409e+00],\n",
              "       [ 3.0053594e+00],\n",
              "       [ 5.4076781e+00],\n",
              "       [ 4.2914753e+00],\n",
              "       [ 2.8630159e+00],\n",
              "       [ 2.5167453e+00],\n",
              "       [ 3.8700969e+00],\n",
              "       [ 3.2603958e+00],\n",
              "       [ 2.5416057e+00],\n",
              "       [ 2.5426452e+00],\n",
              "       [ 3.7471316e+00],\n",
              "       [ 3.3086879e+00],\n",
              "       [ 2.3883684e+00],\n",
              "       [ 2.5492847e+00],\n",
              "       [ 3.0053594e+00],\n",
              "       [ 2.7946422e+00],\n",
              "       [ 9.2498455e+00],\n",
              "       [ 5.6849408e+00],\n",
              "       [ 4.3430409e+00],\n",
              "       [ 9.5525618e+00],\n",
              "       [ 2.9540670e+00],\n",
              "       [ 4.4251285e+00],\n",
              "       [ 3.0053594e+00],\n",
              "       [ 3.8778226e+00],\n",
              "       [ 3.0148389e+00],\n",
              "       [ 3.8778226e+00]], dtype=float32)"
            ]
          },
          "metadata": {
            "tags": []
          },
          "execution_count": 278
        }
      ]
    },
    {
      "cell_type": "code",
      "metadata": {
        "id": "M49koonQoHhv"
      },
      "source": [
        ""
      ],
      "execution_count": null,
      "outputs": []
    },
    {
      "cell_type": "code",
      "metadata": {
        "id": "CHiYs8xj-EKY"
      },
      "source": [
        "res_df = pd.DataFrame({'Offer_ID': ready_test.sort_values(['start_date'])['Offer_ID'], 'UpLift': y_pred.reshape(149)})"
      ],
      "execution_count": null,
      "outputs": []
    },
    {
      "cell_type": "code",
      "metadata": {
        "id": "BWAQNAJV-KJL"
      },
      "source": [
        "ss = pd.read_csv('/content/20210521_sample_submission.csv')"
      ],
      "execution_count": null,
      "outputs": []
    },
    {
      "cell_type": "code",
      "metadata": {
        "id": "Hsx8CZ2r-30C"
      },
      "source": [
        "res_df = ss.merge(res_df, on=['Offer_ID']).drop(['UpLift_x'], axis = 1)"
      ],
      "execution_count": null,
      "outputs": []
    },
    {
      "cell_type": "code",
      "metadata": {
        "id": "ozlIh-Fv-9k6"
      },
      "source": [
        "res_df.columns = ['Offer_ID', 'UpLift']"
      ],
      "execution_count": null,
      "outputs": []
    },
    {
      "cell_type": "code",
      "metadata": {
        "id": "v0EUQLjr_Yb0"
      },
      "source": [
        "res_df.to_csv('submit_lenta_9.csv', index=False)"
      ],
      "execution_count": null,
      "outputs": []
    },
    {
      "cell_type": "code",
      "metadata": {
        "colab": {
          "base_uri": "https://localhost:8080/",
          "height": 407
        },
        "id": "85UdhD1L_dqB",
        "outputId": "97ddf444-3f7f-4a7c-c606-7f59be040773"
      },
      "source": [
        "pd.read_csv('/content/submit_lenta_9.csv')"
      ],
      "execution_count": null,
      "outputs": [
        {
          "output_type": "execute_result",
          "data": {
            "text/html": [
              "<div>\n",
              "<style scoped>\n",
              "    .dataframe tbody tr th:only-of-type {\n",
              "        vertical-align: middle;\n",
              "    }\n",
              "\n",
              "    .dataframe tbody tr th {\n",
              "        vertical-align: top;\n",
              "    }\n",
              "\n",
              "    .dataframe thead th {\n",
              "        text-align: right;\n",
              "    }\n",
              "</style>\n",
              "<table border=\"1\" class=\"dataframe\">\n",
              "  <thead>\n",
              "    <tr style=\"text-align: right;\">\n",
              "      <th></th>\n",
              "      <th>Offer_ID</th>\n",
              "      <th>UpLift</th>\n",
              "    </tr>\n",
              "  </thead>\n",
              "  <tbody>\n",
              "    <tr>\n",
              "      <th>0</th>\n",
              "      <td>386</td>\n",
              "      <td>3.625404</td>\n",
              "    </tr>\n",
              "    <tr>\n",
              "      <th>1</th>\n",
              "      <td>182</td>\n",
              "      <td>6.088385</td>\n",
              "    </tr>\n",
              "    <tr>\n",
              "      <th>2</th>\n",
              "      <td>173</td>\n",
              "      <td>2.699683</td>\n",
              "    </tr>\n",
              "    <tr>\n",
              "      <th>3</th>\n",
              "      <td>375</td>\n",
              "      <td>6.274321</td>\n",
              "    </tr>\n",
              "    <tr>\n",
              "      <th>4</th>\n",
              "      <td>379</td>\n",
              "      <td>1.931651</td>\n",
              "    </tr>\n",
              "    <tr>\n",
              "      <th>...</th>\n",
              "      <td>...</td>\n",
              "      <td>...</td>\n",
              "    </tr>\n",
              "    <tr>\n",
              "      <th>144</th>\n",
              "      <td>536</td>\n",
              "      <td>2.051840</td>\n",
              "    </tr>\n",
              "    <tr>\n",
              "      <th>145</th>\n",
              "      <td>99</td>\n",
              "      <td>4.550816</td>\n",
              "    </tr>\n",
              "    <tr>\n",
              "      <th>146</th>\n",
              "      <td>100</td>\n",
              "      <td>5.047436</td>\n",
              "    </tr>\n",
              "    <tr>\n",
              "      <th>147</th>\n",
              "      <td>95</td>\n",
              "      <td>2.225247</td>\n",
              "    </tr>\n",
              "    <tr>\n",
              "      <th>148</th>\n",
              "      <td>97</td>\n",
              "      <td>3.955635</td>\n",
              "    </tr>\n",
              "  </tbody>\n",
              "</table>\n",
              "<p>149 rows × 2 columns</p>\n",
              "</div>"
            ],
            "text/plain": [
              "    Offer_ID    UpLift\n",
              "0        386  3.625404\n",
              "1        182  6.088385\n",
              "2        173  2.699683\n",
              "3        375  6.274321\n",
              "4        379  1.931651\n",
              "..       ...       ...\n",
              "144      536  2.051840\n",
              "145       99  4.550816\n",
              "146      100  5.047436\n",
              "147       95  2.225247\n",
              "148       97  3.955635\n",
              "\n",
              "[149 rows x 2 columns]"
            ]
          },
          "metadata": {
            "tags": []
          },
          "execution_count": 284
        }
      ]
    },
    {
      "cell_type": "code",
      "metadata": {
        "id": "QbE_4qtW_06p"
      },
      "source": [
        "import pandas as pd"
      ],
      "execution_count": null,
      "outputs": []
    },
    {
      "cell_type": "code",
      "metadata": {
        "id": "-jpQjqvw_t3F"
      },
      "source": [
        "off = pd.read_csv('/content/20210521_offers.csv')\n",
        "upl = pd.read_csv('/content/20210518_uplift.csv')"
      ],
      "execution_count": null,
      "outputs": []
    },
    {
      "cell_type": "code",
      "metadata": {
        "id": "zMywzqsHADeA"
      },
      "source": [
        "off.start_date = pd.to_datetime(off.start_date.map(lambda x: str(x)[:4] + '-'+str(x)[4:6]+'-'+str(x)[6:]))"
      ],
      "execution_count": null,
      "outputs": []
    },
    {
      "cell_type": "code",
      "metadata": {
        "id": "V2MCryMEAXyR"
      },
      "source": [
        "off.end_date = pd.to_datetime(off.end_date.map(lambda x: str(x)[:4] + '-'+str(x)[4:6]+'-'+str(x)[6:]))"
      ],
      "execution_count": null,
      "outputs": []
    },
    {
      "cell_type": "code",
      "metadata": {
        "id": "ilV3FxyaAoL5"
      },
      "source": [
        "train = off[off.train_test_group == 'train'].drop(['train_test_group'], axis=1)"
      ],
      "execution_count": null,
      "outputs": []
    },
    {
      "cell_type": "code",
      "metadata": {
        "id": "osLM6BgTAwGu"
      },
      "source": [
        "train = train.drop(['sku'], axis=1).drop_duplicates().sort_values(['start_date'])"
      ],
      "execution_count": null,
      "outputs": []
    },
    {
      "cell_type": "code",
      "metadata": {
        "id": "XhCBL-OoA8AZ"
      },
      "source": [
        "train = train.merge(upl, on=['Offer_ID']).sort_values(['start_date'])"
      ],
      "execution_count": null,
      "outputs": []
    },
    {
      "cell_type": "code",
      "metadata": {
        "id": "K-T8Ph3ky448"
      },
      "source": [
        "import numpy as np\n",
        "train_uplift = np.array(train['UpLift'])"
      ],
      "execution_count": null,
      "outputs": []
    },
    {
      "cell_type": "code",
      "metadata": {
        "colab": {
          "base_uri": "https://localhost:8080/",
          "height": 282
        },
        "id": "tZjQsdWn2M_4",
        "outputId": "723edb69-4d29-4082-93fe-d2c014725bca"
      },
      "source": [
        "plt.plot(train['start_date'][::2], train_uplift[::2])"
      ],
      "execution_count": null,
      "outputs": [
        {
          "output_type": "execute_result",
          "data": {
            "text/plain": [
              "[<matplotlib.lines.Line2D at 0x7fd3d50cc0d0>]"
            ]
          },
          "metadata": {
            "tags": []
          },
          "execution_count": 297
        },
        {
          "output_type": "display_data",
          "data": {
            "image/png": "[encoded data removed]",
            "text/plain": [
              "<Figure size 432x288 with 1 Axes>"
            ]
          },
          "metadata": {
            "tags": [],
            "needs_background": "light"
          }
        }
      ]
    },
    {
      "cell_type": "code",
      "metadata": {
        "id": "fRtnrpy84Uz2"
      },
      "source": [
        "scaler = MinMaxScaler(feature_range = (0, 1))\n",
        "train_scale = scaler.fit_transform(np.array(train_uplift).reshape(-1, 1))"
      ],
      "execution_count": null,
      "outputs": []
    },
    {
      "cell_type": "code",
      "metadata": {
        "id": "4xRw7aZC2NuY"
      },
      "source": [
        "X_time, y_time = [], []\n",
        "for i in range(24, 740):\n",
        "    X_time.append(train_uplift[i-24:i])\n",
        "    y_time.append(train_uplift[i])"
      ],
      "execution_count": null,
      "outputs": []
    },
    {
      "cell_type": "code",
      "metadata": {
        "id": "z7KWGFvU5K5h"
      },
      "source": [
        "X_time, y_time = np.array(X_time), np.array(y_time)"
      ],
      "execution_count": null,
      "outputs": []
    },
    {
      "cell_type": "code",
      "metadata": {
        "id": "b50gBwrO4513"
      },
      "source": [
        "single_step_model = tf.keras.models.Sequential()\n",
        "single_step_model.add(tf.keras.layers.LSTM(32,\n",
        "                                           input_shape=[X_time.shape[1], 1]))\n",
        "single_step_model.add(tf.keras.layers.Dense(1))\n",
        "\n",
        "single_step_model.compile(optimizer=tf.keras.optimizers.RMSprop(), loss='mae')"
      ],
      "execution_count": null,
      "outputs": []
    },
    {
      "cell_type": "code",
      "metadata": {
        "id": "Od7mYi9N5aVZ"
      },
      "source": [
        "train_data_single = tf.data.Dataset.from_tensor_slices((X_time.reshape(X_time.shape[0], X_time.shape[1], 1), y_time))\n",
        "train_data_single = train_data_single.cache().shuffle(1000).batch(256).repeat()"
      ],
      "execution_count": null,
      "outputs": []
    },
    {
      "cell_type": "code",
      "metadata": {
        "colab": {
          "base_uri": "https://localhost:8080/"
        },
        "id": "s3It5t095HV6",
        "outputId": "cbb30fab-c2ce-4468-d407-d7e4a2f0aa4c"
      },
      "source": [
        "single_step_history = single_step_model.fit(train_data_single, epochs=10,\n",
        "                                            steps_per_epoch=300,)"
      ],
      "execution_count": null,
      "outputs": [
        {
          "output_type": "stream",
          "text": [
            "Epoch 1/10\n",
            "300/300 [==============================] - 9s 4ms/step - loss: 4.2656\n",
            "Epoch 2/10\n",
            "300/300 [==============================] - 1s 4ms/step - loss: 4.1346\n",
            "Epoch 3/10\n",
            "300/300 [==============================] - 1s 4ms/step - loss: 4.0237\n",
            "Epoch 4/10\n",
            "300/300 [==============================] - 1s 4ms/step - loss: 3.9330\n",
            "Epoch 5/10\n",
            "300/300 [==============================] - 1s 4ms/step - loss: 3.8506\n",
            "Epoch 6/10\n",
            "300/300 [==============================] - 1s 4ms/step - loss: 3.7723\n",
            "Epoch 7/10\n",
            "300/300 [==============================] - 1s 4ms/step - loss: 3.6909\n",
            "Epoch 8/10\n",
            "300/300 [==============================] - 1s 4ms/step - loss: 3.6083\n",
            "Epoch 9/10\n",
            "300/300 [==============================] - 1s 4ms/step - loss: 3.5262\n",
            "Epoch 10/10\n",
            "300/300 [==============================] - 1s 4ms/step - loss: 3.4384\n"
          ],
          "name": "stdout"
        }
      ]
    },
    {
      "cell_type": "code",
      "metadata": {
        "id": "58hcIB2U5g3P"
      },
      "source": [
        "X_test = y_time[-24:]"
      ],
      "execution_count": null,
      "outputs": []
    },
    {
      "cell_type": "code",
      "metadata": {
        "colab": {
          "base_uri": "https://localhost:8080/"
        },
        "id": "6QMaJryN6bV9",
        "outputId": "84e83991-afcc-4ad2-e2b1-fb407f66028b"
      },
      "source": [
        "X_test.shape"
      ],
      "execution_count": null,
      "outputs": [
        {
          "output_type": "execute_result",
          "data": {
            "text/plain": [
              "(40,)"
            ]
          },
          "metadata": {
            "tags": []
          },
          "execution_count": 318
        }
      ]
    },
    {
      "cell_type": "code",
      "metadata": {
        "colab": {
          "base_uri": "https://localhost:8080/"
        },
        "id": "5ToHbU5Y6d2m",
        "outputId": "133f3573-bbbc-4535-ab47-c1e8cb23b63e"
      },
      "source": [
        "y_pred = []\n",
        "for i in range(149):\n",
        "  pred = single_step_model.predict(X_test.reshape(1, X_test.shape[0], 1).astype(float))\n",
        "  print(pred)\n",
        "  y_pred.append(pred[0][0])\n",
        "  X_test = np.array(list(X_test)[1:] + list(pred[0]))"
      ],
      "execution_count": null,
      "outputs": [
        {
          "output_type": "stream",
          "text": [
            "[[-1.5169643]]\n",
            "[[0.56931394]]\n",
            "[[1.6326733]]\n",
            "[[1.1198864]]\n",
            "[[1.0586839]]\n",
            "[[1.5567209]]\n",
            "[[2.1480901]]\n",
            "[[4.611166]]\n",
            "[[6.3253493]]\n",
            "[[5.186191]]\n",
            "[[3.074622]]\n",
            "[[0.03320919]]\n",
            "[[0.60579973]]\n",
            "[[0.5394455]]\n",
            "[[0.44125473]]\n",
            "[[0.63953656]]\n",
            "[[0.6654065]]\n",
            "[[0.7370904]]\n",
            "[[0.7869969]]\n",
            "[[0.84059966]]\n",
            "[[0.895878]]\n",
            "[[4.3498707]]\n",
            "[[7.225669]]\n",
            "[[6.1592264]]\n",
            "[[0.38161945]]\n",
            "[[1.8334503]]\n",
            "[[6.552726]]\n",
            "[[6.132186]]\n",
            "[[4.8017006]]\n",
            "[[2.740086]]\n",
            "[[2.2306287]]\n",
            "[[2.2957165]]\n",
            "[[2.615209]]\n",
            "[[2.138497]]\n",
            "[[6.1167374]]\n",
            "[[-0.03062882]]\n",
            "[[0.9941275]]\n",
            "[[0.64953893]]\n",
            "[[0.830689]]\n",
            "[[0.88018227]]\n",
            "[[4.316862]]\n",
            "[[3.2371469]]\n",
            "[[5.4527817]]\n",
            "[[5.3258305]]\n",
            "[[7.524158]]\n",
            "[[7.4360127]]\n",
            "[[4.273766]]\n",
            "[[1.7806392]]\n",
            "[[2.580057]]\n",
            "[[5.571567]]\n",
            "[[5.040399]]\n",
            "[[3.332156]]\n",
            "[[3.403741]]\n",
            "[[3.9452007]]\n",
            "[[4.1368794]]\n",
            "[[4.2295623]]\n",
            "[[5.395736]]\n",
            "[[6.139836]]\n",
            "[[5.296316]]\n",
            "[[0.57965416]]\n",
            "[[3.7506835]]\n",
            "[[4.1143174]]\n",
            "[[5.07716]]\n",
            "[[9.310694]]\n",
            "[[9.609621]]\n",
            "[[8.87196]]\n",
            "[[7.5376334]]\n",
            "[[4.7647233]]\n",
            "[[2.2590864]]\n",
            "[[2.6622107]]\n",
            "[[4.939243]]\n",
            "[[8.094944]]\n",
            "[[9.358607]]\n",
            "[[5.6736712]]\n",
            "[[6.869083]]\n",
            "[[6.0489883]]\n",
            "[[6.3729334]]\n",
            "[[2.8585565]]\n",
            "[[5.6939006]]\n",
            "[[3.393388]]\n",
            "[[6.329146]]\n",
            "[[3.3237376]]\n",
            "[[6.0392213]]\n",
            "[[2.5159125]]\n",
            "[[6.102037]]\n",
            "[[2.796519]]\n",
            "[[7.201068]]\n",
            "[[4.956606]]\n",
            "[[9.197537]]\n",
            "[[7.695013]]\n",
            "[[9.29369]]\n",
            "[[5.4254494]]\n",
            "[[7.2595754]]\n",
            "[[3.0036342]]\n",
            "[[6.90954]]\n",
            "[[3.2380052]]\n",
            "[[7.399413]]\n",
            "[[3.3621156]]\n",
            "[[7.56662]]\n",
            "[[3.8527758]]\n",
            "[[7.89598]]\n",
            "[[3.0618844]]\n",
            "[[7.2181063]]\n",
            "[[2.835591]]\n",
            "[[6.904343]]\n",
            "[[2.6902785]]\n",
            "[[6.7428403]]\n",
            "[[2.639331]]\n",
            "[[6.6725974]]\n",
            "[[2.5256958]]\n",
            "[[6.571551]]\n",
            "[[2.5487022]]\n",
            "[[6.620137]]\n",
            "[[2.9479399]]\n",
            "[[7.4163594]]\n",
            "[[4.065956]]\n",
            "[[8.347542]]\n",
            "[[4.024358]]\n",
            "[[8.055912]]\n",
            "[[3.6890597]]\n",
            "[[7.8574758]]\n",
            "[[3.5516155]]\n",
            "[[7.7511983]]\n",
            "[[3.6329327]]\n",
            "[[7.923552]]\n",
            "[[3.5148535]]\n",
            "[[7.6676226]]\n",
            "[[3.1542115]]\n",
            "[[7.278029]]\n",
            "[[2.8740878]]\n",
            "[[6.937065]]\n",
            "[[2.6813557]]\n",
            "[[6.6899137]]\n",
            "[[2.595063]]\n",
            "[[6.580763]]\n",
            "[[2.5758204]]\n",
            "[[6.5957775]]\n",
            "[[2.614868]]\n",
            "[[6.7084217]]\n",
            "[[2.8472254]]\n",
            "[[7.094709]]\n",
            "[[3.3552773]]\n",
            "[[7.6843596]]\n",
            "[[3.830917]]\n",
            "[[8.053397]]\n",
            "[[4.0151286]]\n",
            "[[8.168789]]\n",
            "[[4.0480843]]\n",
            "[[8.221383]]\n"
          ],
          "name": "stdout"
        }
      ]
    },
    {
      "cell_type": "code",
      "metadata": {
        "colab": {
          "base_uri": "https://localhost:8080/"
        },
        "id": "QSICul9VCO6N",
        "outputId": "0a9d526f-0c40-4387-adc1-ba6979d8a6b9"
      },
      "source": [
        "y_pred"
      ],
      "execution_count": null,
      "outputs": [
        {
          "output_type": "execute_result",
          "data": {
            "text/plain": [
              "[-1.5169643,\n",
              " 0.56931394,\n",
              " 1.6326733,\n",
              " 1.1198864,\n",
              " 1.0586839,\n",
              " 1.5567209,\n",
              " 2.1480901,\n",
              " 4.611166,\n",
              " 6.3253493,\n",
              " 5.186191,\n",
              " 3.074622,\n",
              " 0.03320919,\n",
              " 0.60579973,\n",
              " 0.5394455,\n",
              " 0.44125473,\n",
              " 0.63953656,\n",
              " 0.6654065,\n",
              " 0.7370904,\n",
              " 0.7869969,\n",
              " 0.84059966,\n",
              " 0.895878,\n",
              " 4.3498707,\n",
              " 7.225669,\n",
              " 6.1592264,\n",
              " 0.38161945,\n",
              " 1.8334503,\n",
              " 6.552726,\n",
              " 6.132186,\n",
              " 4.8017006,\n",
              " 2.740086,\n",
              " 2.2306287,\n",
              " 2.2957165,\n",
              " 2.615209,\n",
              " 2.138497,\n",
              " 6.1167374,\n",
              " -0.030628815,\n",
              " 0.9941275,\n",
              " 0.64953893,\n",
              " 0.830689,\n",
              " 0.88018227,\n",
              " 4.316862,\n",
              " 3.2371469,\n",
              " 5.4527817,\n",
              " 5.3258305,\n",
              " 7.524158,\n",
              " 7.4360127,\n",
              " 4.273766,\n",
              " 1.7806392,\n",
              " 2.580057,\n",
              " 5.571567,\n",
              " 5.040399,\n",
              " 3.332156,\n",
              " 3.403741,\n",
              " 3.9452007,\n",
              " 4.1368794,\n",
              " 4.2295623,\n",
              " 5.395736,\n",
              " 6.139836,\n",
              " 5.296316,\n",
              " 0.57965416,\n",
              " 3.7506835,\n",
              " 4.1143174,\n",
              " 5.07716,\n",
              " 9.310694,\n",
              " 9.609621,\n",
              " 8.87196,\n",
              " 7.5376334,\n",
              " 4.7647233,\n",
              " 2.2590864,\n",
              " 2.6622107,\n",
              " 4.939243,\n",
              " 8.094944,\n",
              " 9.358607,\n",
              " 5.6736712,\n",
              " 6.869083,\n",
              " 6.0489883,\n",
              " 6.3729334,\n",
              " 2.8585565,\n",
              " 5.6939006,\n",
              " 3.393388,\n",
              " 6.329146,\n",
              " 3.3237376,\n",
              " 6.0392213,\n",
              " 2.5159125,\n",
              " 6.102037,\n",
              " 2.796519,\n",
              " 7.201068,\n",
              " 4.956606,\n",
              " 9.197537,\n",
              " 7.695013,\n",
              " 9.29369,\n",
              " 5.4254494,\n",
              " 7.2595754,\n",
              " 3.0036342,\n",
              " 6.90954,\n",
              " 3.2380052,\n",
              " 7.399413,\n",
              " 3.3621156,\n",
              " 7.56662,\n",
              " 3.8527758,\n",
              " 7.89598,\n",
              " 3.0618844,\n",
              " 7.2181063,\n",
              " 2.835591,\n",
              " 6.904343,\n",
              " 2.6902785,\n",
              " 6.7428403,\n",
              " 2.639331,\n",
              " 6.6725974,\n",
              " 2.5256958,\n",
              " 6.571551,\n",
              " 2.5487022,\n",
              " 6.620137,\n",
              " 2.9479399,\n",
              " 7.4163594,\n",
              " 4.065956,\n",
              " 8.347542,\n",
              " 4.024358,\n",
              " 8.055912,\n",
              " 3.6890597,\n",
              " 7.8574758,\n",
              " 3.5516155,\n",
              " 7.7511983,\n",
              " 3.6329327,\n",
              " 7.923552,\n",
              " 3.5148535,\n",
              " 7.6676226,\n",
              " 3.1542115,\n",
              " 7.278029,\n",
              " 2.8740878,\n",
              " 6.937065,\n",
              " 2.6813557,\n",
              " 6.6899137,\n",
              " 2.595063,\n",
              " 6.580763,\n",
              " 2.5758204,\n",
              " 6.5957775,\n",
              " 2.614868,\n",
              " 6.7084217,\n",
              " 2.8472254,\n",
              " 7.094709,\n",
              " 3.3552773,\n",
              " 7.6843596,\n",
              " 3.830917,\n",
              " 8.053397,\n",
              " 4.0151286,\n",
              " 8.168789,\n",
              " 4.0480843,\n",
              " 8.221383]"
            ]
          },
          "metadata": {
            "tags": []
          },
          "execution_count": 29
        }
      ]
    },
    {
      "cell_type": "code",
      "metadata": {
        "id": "CWL4eHQu7LSj"
      },
      "source": [
        "res = scaler.inverse_transform(np.array(y_pred).reshape(-1, 1)).reshape(149)"
      ],
      "execution_count": null,
      "outputs": []
    },
    {
      "cell_type": "code",
      "metadata": {
        "id": "jipUpvOm7dR0"
      },
      "source": [
        ""
      ],
      "execution_count": null,
      "outputs": []
    },
    {
      "cell_type": "code",
      "metadata": {
        "id": "cdtjskAj8NSe"
      },
      "source": [
        "res_df = pd.DataFrame({'Offer_ID': off[off.train_test_group =='test'].drop(['sku'],axis=1).drop_duplicates().sort_values(['start_date'])['Offer_ID'], 'UpLift': y_pred})"
      ],
      "execution_count": null,
      "outputs": []
    },
    {
      "cell_type": "code",
      "metadata": {
        "id": "Qxe3XpcX8NSp"
      },
      "source": [
        "ss = pd.read_csv('/content/20210521_sample_submission.csv')"
      ],
      "execution_count": null,
      "outputs": []
    },
    {
      "cell_type": "code",
      "metadata": {
        "id": "IepkVnof8NSp"
      },
      "source": [
        "res_df = ss.merge(res_df, on=['Offer_ID']).drop(['UpLift_x'], axis = 1)"
      ],
      "execution_count": null,
      "outputs": []
    },
    {
      "cell_type": "code",
      "metadata": {
        "id": "uuwCqUPy8NSq"
      },
      "source": [
        "res_df.columns = ['Offer_ID', 'UpLift']"
      ],
      "execution_count": null,
      "outputs": []
    },
    {
      "cell_type": "code",
      "metadata": {
        "id": "NAcjnsUw8NSq"
      },
      "source": [
        "res_df.to_csv('submit_lenta_100.csv', index=False)"
      ],
      "execution_count": null,
      "outputs": []
    },
    {
      "cell_type": "code",
      "metadata": {
        "colab": {
          "base_uri": "https://localhost:8080/",
          "height": 407
        },
        "id": "-xVeztiB8NSq",
        "outputId": "9c30efa1-0aa4-44af-ec1f-fc3009f0d9e7"
      },
      "source": [
        "pd.read_csv('/content/submit_lenta_100.csv')"
      ],
      "execution_count": null,
      "outputs": [
        {
          "output_type": "execute_result",
          "data": {
            "text/html": [
              "<div>\n",
              "<style scoped>\n",
              "    .dataframe tbody tr th:only-of-type {\n",
              "        vertical-align: middle;\n",
              "    }\n",
              "\n",
              "    .dataframe tbody tr th {\n",
              "        vertical-align: top;\n",
              "    }\n",
              "\n",
              "    .dataframe thead th {\n",
              "        text-align: right;\n",
              "    }\n",
              "</style>\n",
              "<table border=\"1\" class=\"dataframe\">\n",
              "  <thead>\n",
              "    <tr style=\"text-align: right;\">\n",
              "      <th></th>\n",
              "      <th>Offer_ID</th>\n",
              "      <th>UpLift</th>\n",
              "    </tr>\n",
              "  </thead>\n",
              "  <tbody>\n",
              "    <tr>\n",
              "      <th>0</th>\n",
              "      <td>386</td>\n",
              "      <td>6.571551</td>\n",
              "    </tr>\n",
              "    <tr>\n",
              "      <th>1</th>\n",
              "      <td>182</td>\n",
              "      <td>7.259575</td>\n",
              "    </tr>\n",
              "    <tr>\n",
              "      <th>2</th>\n",
              "      <td>173</td>\n",
              "      <td>3.323738</td>\n",
              "    </tr>\n",
              "    <tr>\n",
              "      <th>3</th>\n",
              "      <td>375</td>\n",
              "      <td>2.548702</td>\n",
              "    </tr>\n",
              "    <tr>\n",
              "      <th>4</th>\n",
              "      <td>379</td>\n",
              "      <td>3.689060</td>\n",
              "    </tr>\n",
              "    <tr>\n",
              "      <th>...</th>\n",
              "      <td>...</td>\n",
              "      <td>...</td>\n",
              "    </tr>\n",
              "    <tr>\n",
              "      <th>144</th>\n",
              "      <td>536</td>\n",
              "      <td>4.114317</td>\n",
              "    </tr>\n",
              "    <tr>\n",
              "      <th>145</th>\n",
              "      <td>99</td>\n",
              "      <td>1.119886</td>\n",
              "    </tr>\n",
              "    <tr>\n",
              "      <th>146</th>\n",
              "      <td>100</td>\n",
              "      <td>0.569314</td>\n",
              "    </tr>\n",
              "    <tr>\n",
              "      <th>147</th>\n",
              "      <td>95</td>\n",
              "      <td>1.058684</td>\n",
              "    </tr>\n",
              "    <tr>\n",
              "      <th>148</th>\n",
              "      <td>97</td>\n",
              "      <td>1.632673</td>\n",
              "    </tr>\n",
              "  </tbody>\n",
              "</table>\n",
              "<p>149 rows × 2 columns</p>\n",
              "</div>"
            ],
            "text/plain": [
              "    Offer_ID    UpLift\n",
              "0        386  6.571551\n",
              "1        182  7.259575\n",
              "2        173  3.323738\n",
              "3        375  2.548702\n",
              "4        379  3.689060\n",
              "..       ...       ...\n",
              "144      536  4.114317\n",
              "145       99  1.119886\n",
              "146      100  0.569314\n",
              "147       95  1.058684\n",
              "148       97  1.632673\n",
              "\n",
              "[149 rows x 2 columns]"
            ]
          },
          "metadata": {
            "tags": []
          },
          "execution_count": 39
        }
      ]
    },
    {
      "cell_type": "code",
      "metadata": {
        "id": "pYbIEmAO8SWy"
      },
      "source": [
        "single_step_model.save('lenta.h5')"
      ],
      "execution_count": null,
      "outputs": []
    },
    {
      "cell_type": "code",
      "metadata": {
        "id": "LzJQsjZ1DTRL"
      },
      "source": [
        "from tensorflow.keras.models import load_model"
      ],
      "execution_count": null,
      "outputs": []
    },
    {
      "cell_type": "code",
      "metadata": {
        "id": "pw-cJN-tDjW3"
      },
      "source": [
        "model = load_model('lenta.h5')"
      ],
      "execution_count": null,
      "outputs": []
    },
    {
      "cell_type": "code",
      "metadata": {
        "colab": {
          "base_uri": "https://localhost:8080/"
        },
        "id": "KeF9nvKMDyED",
        "outputId": "0bd75e0c-7419-49b7-f26b-d93204db5c31"
      },
      "source": [
        "model.predict(X_test.reshape(1, X_test.shape[0], 1).astype(float))"
      ],
      "execution_count": null,
      "outputs": [
        {
          "output_type": "execute_result",
          "data": {
            "text/plain": [
              "array([[3.9746995]], dtype=float32)"
            ]
          },
          "metadata": {
            "tags": []
          },
          "execution_count": 47
        }
      ]
    },
    {
      "cell_type": "code",
      "metadata": {
        "id": "fBjjMbZqDy8N"
      },
      "source": [
        "pd.DataFrame({'UpLift': X_test}).to_csv('example.csv', index=False)"
      ],
      "execution_count": null,
      "outputs": []
    },
    {
      "cell_type": "code",
      "metadata": {
        "id": "2SecxtzYEol5"
      },
      "source": [
        ""
      ],
      "execution_count": null,
      "outputs": []
    }
  ]
}